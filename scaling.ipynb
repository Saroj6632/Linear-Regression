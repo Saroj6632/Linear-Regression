{
 "cells": [
  {
   "cell_type": "code",
   "execution_count": 113,
   "id": "883ae6c2",
   "metadata": {},
   "outputs": [],
   "source": [
    "import matplotlib.pyplot as plt\n",
    "import numpy as np\n",
    "from scipy import stats\n",
    "import sklearn.preprocessing\n",
    "from sklearn.model_selection import train_test_split\n",
    "import pandas as pd\n",
    "from wrangle import wrangle_zillow"
   ]
  },
  {
   "cell_type": "markdown",
   "id": "9936a4a4",
   "metadata": {},
   "source": [
    "## 1.Apply the scalers we talked about in this lesson to your data and visualize the results for the unscaled and scaled distribution "
   ]
  },
  {
   "cell_type": "code",
   "execution_count": 132,
   "id": "aa3dfb4a",
   "metadata": {},
   "outputs": [
    {
     "data": {
      "text/html": [
       "<div>\n",
       "<style scoped>\n",
       "    .dataframe tbody tr th:only-of-type {\n",
       "        vertical-align: middle;\n",
       "    }\n",
       "\n",
       "    .dataframe tbody tr th {\n",
       "        vertical-align: top;\n",
       "    }\n",
       "\n",
       "    .dataframe thead th {\n",
       "        text-align: right;\n",
       "    }\n",
       "</style>\n",
       "<table border=\"1\" class=\"dataframe\">\n",
       "  <thead>\n",
       "    <tr style=\"text-align: right;\">\n",
       "      <th></th>\n",
       "      <th>bedroomcnt</th>\n",
       "      <th>bathroomcnt</th>\n",
       "      <th>calculatedfinishedsquarefeet</th>\n",
       "      <th>taxvaluedollarcnt</th>\n",
       "      <th>yearbuilt</th>\n",
       "      <th>taxamount</th>\n",
       "      <th>fips</th>\n",
       "    </tr>\n",
       "  </thead>\n",
       "  <tbody>\n",
       "    <tr>\n",
       "      <th>0</th>\n",
       "      <td>4</td>\n",
       "      <td>2.0</td>\n",
       "      <td>3633</td>\n",
       "      <td>296425</td>\n",
       "      <td>2005</td>\n",
       "      <td>6941.39</td>\n",
       "      <td>6037</td>\n",
       "    </tr>\n",
       "    <tr>\n",
       "      <th>1</th>\n",
       "      <td>3</td>\n",
       "      <td>4.0</td>\n",
       "      <td>1620</td>\n",
       "      <td>847770</td>\n",
       "      <td>2011</td>\n",
       "      <td>10244.94</td>\n",
       "      <td>6037</td>\n",
       "    </tr>\n",
       "    <tr>\n",
       "      <th>2</th>\n",
       "      <td>3</td>\n",
       "      <td>2.0</td>\n",
       "      <td>2077</td>\n",
       "      <td>646760</td>\n",
       "      <td>1926</td>\n",
       "      <td>7924.68</td>\n",
       "      <td>6037</td>\n",
       "    </tr>\n",
       "    <tr>\n",
       "      <th>3</th>\n",
       "      <td>0</td>\n",
       "      <td>0.0</td>\n",
       "      <td>1200</td>\n",
       "      <td>5328</td>\n",
       "      <td>1972</td>\n",
       "      <td>91.60</td>\n",
       "      <td>6037</td>\n",
       "    </tr>\n",
       "    <tr>\n",
       "      <th>4</th>\n",
       "      <td>0</td>\n",
       "      <td>0.0</td>\n",
       "      <td>171</td>\n",
       "      <td>6920</td>\n",
       "      <td>1973</td>\n",
       "      <td>255.17</td>\n",
       "      <td>6037</td>\n",
       "    </tr>\n",
       "  </tbody>\n",
       "</table>\n",
       "</div>"
      ],
      "text/plain": [
       "   bedroomcnt  bathroomcnt  calculatedfinishedsquarefeet  taxvaluedollarcnt  \\\n",
       "0           4          2.0                          3633             296425   \n",
       "1           3          4.0                          1620             847770   \n",
       "2           3          2.0                          2077             646760   \n",
       "3           0          0.0                          1200               5328   \n",
       "4           0          0.0                           171               6920   \n",
       "\n",
       "   yearbuilt  taxamount  fips  \n",
       "0       2005    6941.39  6037  \n",
       "1       2011   10244.94  6037  \n",
       "2       1926    7924.68  6037  \n",
       "3       1972      91.60  6037  \n",
       "4       1973     255.17  6037  "
      ]
     },
     "execution_count": 132,
     "metadata": {},
     "output_type": "execute_result"
    }
   ],
   "source": [
    "df= wrangle_zillow()\n",
    "df.head()"
   ]
  },
  {
   "cell_type": "code",
   "execution_count": 141,
   "id": "10fe6747",
   "metadata": {},
   "outputs": [
    {
     "data": {
      "text/html": [
       "<div>\n",
       "<style scoped>\n",
       "    .dataframe tbody tr th:only-of-type {\n",
       "        vertical-align: middle;\n",
       "    }\n",
       "\n",
       "    .dataframe tbody tr th {\n",
       "        vertical-align: top;\n",
       "    }\n",
       "\n",
       "    .dataframe thead th {\n",
       "        text-align: right;\n",
       "    }\n",
       "</style>\n",
       "<table border=\"1\" class=\"dataframe\">\n",
       "  <thead>\n",
       "    <tr style=\"text-align: right;\">\n",
       "      <th></th>\n",
       "      <th>bedroom</th>\n",
       "      <th>bathroom</th>\n",
       "      <th>footage_area</th>\n",
       "      <th>home_value</th>\n",
       "      <th>year</th>\n",
       "      <th>taxamount</th>\n",
       "      <th>fips</th>\n",
       "    </tr>\n",
       "  </thead>\n",
       "  <tbody>\n",
       "    <tr>\n",
       "      <th>0</th>\n",
       "      <td>4</td>\n",
       "      <td>2.0</td>\n",
       "      <td>3633</td>\n",
       "      <td>296425</td>\n",
       "      <td>2005</td>\n",
       "      <td>6941.39</td>\n",
       "      <td>6037</td>\n",
       "    </tr>\n",
       "    <tr>\n",
       "      <th>1</th>\n",
       "      <td>3</td>\n",
       "      <td>4.0</td>\n",
       "      <td>1620</td>\n",
       "      <td>847770</td>\n",
       "      <td>2011</td>\n",
       "      <td>10244.94</td>\n",
       "      <td>6037</td>\n",
       "    </tr>\n",
       "    <tr>\n",
       "      <th>2</th>\n",
       "      <td>3</td>\n",
       "      <td>2.0</td>\n",
       "      <td>2077</td>\n",
       "      <td>646760</td>\n",
       "      <td>1926</td>\n",
       "      <td>7924.68</td>\n",
       "      <td>6037</td>\n",
       "    </tr>\n",
       "    <tr>\n",
       "      <th>3</th>\n",
       "      <td>0</td>\n",
       "      <td>0.0</td>\n",
       "      <td>1200</td>\n",
       "      <td>5328</td>\n",
       "      <td>1972</td>\n",
       "      <td>91.60</td>\n",
       "      <td>6037</td>\n",
       "    </tr>\n",
       "    <tr>\n",
       "      <th>4</th>\n",
       "      <td>0</td>\n",
       "      <td>0.0</td>\n",
       "      <td>171</td>\n",
       "      <td>6920</td>\n",
       "      <td>1973</td>\n",
       "      <td>255.17</td>\n",
       "      <td>6037</td>\n",
       "    </tr>\n",
       "  </tbody>\n",
       "</table>\n",
       "</div>"
      ],
      "text/plain": [
       "   bedroom  bathroom  footage_area  home_value  year  taxamount  fips\n",
       "0        4       2.0          3633      296425  2005    6941.39  6037\n",
       "1        3       4.0          1620      847770  2011   10244.94  6037\n",
       "2        3       2.0          2077      646760  1926    7924.68  6037\n",
       "3        0       0.0          1200        5328  1972      91.60  6037\n",
       "4        0       0.0           171        6920  1973     255.17  6037"
      ]
     },
     "execution_count": 141,
     "metadata": {},
     "output_type": "execute_result"
    }
   ],
   "source": [
    "df=df.rename(columns={'bedroomcnt':'bedroom','bathroomcnt':'bathroom','calculatedfinishedsquarefeet':'footage_area','taxvaluedollarcnt':'home_value','yearbuilt':'year'})\n",
    "df.head()"
   ]
  },
  {
   "cell_type": "markdown",
   "id": "61d0fed8",
   "metadata": {},
   "source": [
    "### Unscaled Data visualisation"
   ]
  },
  {
   "cell_type": "code",
   "execution_count": 140,
   "id": "6916390e",
   "metadata": {},
   "outputs": [
    {
     "name": "stdout",
     "output_type": "stream",
     "text": [
      "bedroom\n"
     ]
    },
    {
     "data": {
      "image/png": "[encoded data removed]",
      "text/plain": [
       "<Figure size 432x288 with 1 Axes>"
      ]
     },
     "metadata": {
      "needs_background": "light"
     },
     "output_type": "display_data"
    },
    {
     "name": "stdout",
     "output_type": "stream",
     "text": [
      "bathroom\n"
     ]
    },
    {
     "data": {
      "image/png": "[encoded data removed]",
      "text/plain": [
       "<Figure size 432x288 with 1 Axes>"
      ]
     },
     "metadata": {
      "needs_background": "light"
     },
     "output_type": "display_data"
    },
    {
     "name": "stdout",
     "output_type": "stream",
     "text": [
      "footage_area\n"
     ]
    },
    {
     "data": {
      "image/png": "[encoded data removed]",
      "text/plain": [
       "<Figure size 432x288 with 1 Axes>"
      ]
     },
     "metadata": {
      "needs_background": "light"
     },
     "output_type": "display_data"
    },
    {
     "name": "stdout",
     "output_type": "stream",
     "text": [
      "home_value\n"
     ]
    },
    {
     "data": {
      "image/png": "[encoded data removed]",
      "text/plain": [
       "<Figure size 432x288 with 1 Axes>"
      ]
     },
     "metadata": {
      "needs_background": "light"
     },
     "output_type": "display_data"
    },
    {
     "name": "stdout",
     "output_type": "stream",
     "text": [
      "year\n"
     ]
    },
    {
     "data": {
      "image/png": "[encoded data removed]",
      "text/plain": [
       "<Figure size 432x288 with 1 Axes>"
      ]
     },
     "metadata": {
      "needs_background": "light"
     },
     "output_type": "display_data"
    },
    {
     "name": "stdout",
     "output_type": "stream",
     "text": [
      "taxamount\n"
     ]
    },
    {
     "data": {
      "image/png": "[encoded data removed]",
      "text/plain": [
       "<Figure size 432x288 with 1 Axes>"
      ]
     },
     "metadata": {
      "needs_background": "light"
     },
     "output_type": "display_data"
    },
    {
     "name": "stdout",
     "output_type": "stream",
     "text": [
      "fips\n"
     ]
    },
    {
     "data": {
      "image/png": "[encoded data removed]",
      "text/plain": [
       "<Figure size 432x288 with 1 Axes>"
      ]
     },
     "metadata": {
      "needs_background": "light"
     },
     "output_type": "display_data"
    }
   ],
   "source": [
    "for col in df.columns:\n",
    "    print(col)\n",
    "    df[col].hist()\n",
    "    plt.show()"
   ]
  },
  {
   "cell_type": "markdown",
   "id": "95f5ba50",
   "metadata": {},
   "source": [
    "### Scaled Data visualisation"
   ]
  },
  {
   "cell_type": "code",
   "execution_count": null,
   "id": "665ca815",
   "metadata": {},
   "outputs": [],
   "source": [
    "# columns that needed to be scaled in a list. \n",
    "scale_col=[bathroom, bedroom,footage_area]"
   ]
  },
  {
   "cell_type": "code",
   "execution_count": 115,
   "id": "2649e9a0",
   "metadata": {},
   "outputs": [],
   "source": [
    "scaler=sklearn.preprocessing.MinMaxScaler()"
   ]
  },
  {
   "cell_type": "code",
   "execution_count": 116,
   "id": "69051653",
   "metadata": {},
   "outputs": [],
   "source": [
    "# splitting the data into train, validate and test sample.\n",
    "x_train_and_validate, x_test = train_test_split(df, random_state=123)\n",
    "x_train, x_validate = train_test_split(x_train_and_validate)"
   ]
  },
  {
   "cell_type": "code",
   "execution_count": 117,
   "id": "a82afcb8",
   "metadata": {},
   "outputs": [
    {
     "name": "stdout",
     "output_type": "stream",
     "text": [
      "(1178202, 7) (392735, 7) (523646, 7)\n"
     ]
    }
   ],
   "source": [
    "print(x_train.shape, x_validate.shape, x_test.shape)"
   ]
  },
  {
   "cell_type": "code",
   "execution_count": 118,
   "id": "4fc19587",
   "metadata": {},
   "outputs": [
    {
     "data": {
      "text/html": [
       "<div>\n",
       "<style scoped>\n",
       "    .dataframe tbody tr th:only-of-type {\n",
       "        vertical-align: middle;\n",
       "    }\n",
       "\n",
       "    .dataframe tbody tr th {\n",
       "        vertical-align: top;\n",
       "    }\n",
       "\n",
       "    .dataframe thead th {\n",
       "        text-align: right;\n",
       "    }\n",
       "</style>\n",
       "<table border=\"1\" class=\"dataframe\">\n",
       "  <thead>\n",
       "    <tr style=\"text-align: right;\">\n",
       "      <th></th>\n",
       "      <th>bedroomcnt</th>\n",
       "      <th>bathroomcnt</th>\n",
       "      <th>calculatedfinishedsquarefeet</th>\n",
       "      <th>taxvaluedollarcnt</th>\n",
       "      <th>yearbuilt</th>\n",
       "      <th>taxamount</th>\n",
       "      <th>fips</th>\n",
       "    </tr>\n",
       "  </thead>\n",
       "  <tbody>\n",
       "    <tr>\n",
       "      <th>987314</th>\n",
       "      <td>3</td>\n",
       "      <td>2.0</td>\n",
       "      <td>1281</td>\n",
       "      <td>101143</td>\n",
       "      <td>1990</td>\n",
       "      <td>1980.56</td>\n",
       "      <td>6037</td>\n",
       "    </tr>\n",
       "    <tr>\n",
       "      <th>1586873</th>\n",
       "      <td>2</td>\n",
       "      <td>1.0</td>\n",
       "      <td>865</td>\n",
       "      <td>223957</td>\n",
       "      <td>1940</td>\n",
       "      <td>3239.24</td>\n",
       "      <td>6037</td>\n",
       "    </tr>\n",
       "    <tr>\n",
       "      <th>632182</th>\n",
       "      <td>3</td>\n",
       "      <td>2.0</td>\n",
       "      <td>1568</td>\n",
       "      <td>338413</td>\n",
       "      <td>1954</td>\n",
       "      <td>4646.58</td>\n",
       "      <td>6037</td>\n",
       "    </tr>\n",
       "    <tr>\n",
       "      <th>103324</th>\n",
       "      <td>3</td>\n",
       "      <td>1.0</td>\n",
       "      <td>1178</td>\n",
       "      <td>442000</td>\n",
       "      <td>1942</td>\n",
       "      <td>5279.42</td>\n",
       "      <td>6059</td>\n",
       "    </tr>\n",
       "    <tr>\n",
       "      <th>1251707</th>\n",
       "      <td>4</td>\n",
       "      <td>2.0</td>\n",
       "      <td>2023</td>\n",
       "      <td>301770</td>\n",
       "      <td>1949</td>\n",
       "      <td>3868.67</td>\n",
       "      <td>6037</td>\n",
       "    </tr>\n",
       "  </tbody>\n",
       "</table>\n",
       "</div>"
      ],
      "text/plain": [
       "         bedroomcnt  bathroomcnt  calculatedfinishedsquarefeet  \\\n",
       "987314            3          2.0                          1281   \n",
       "1586873           2          1.0                           865   \n",
       "632182            3          2.0                          1568   \n",
       "103324            3          1.0                          1178   \n",
       "1251707           4          2.0                          2023   \n",
       "\n",
       "         taxvaluedollarcnt  yearbuilt  taxamount  fips  \n",
       "987314              101143       1990    1980.56  6037  \n",
       "1586873             223957       1940    3239.24  6037  \n",
       "632182              338413       1954    4646.58  6037  \n",
       "103324              442000       1942    5279.42  6059  \n",
       "1251707             301770       1949    3868.67  6037  "
      ]
     },
     "execution_count": 118,
     "metadata": {},
     "output_type": "execute_result"
    }
   ],
   "source": [
    "x_train.head()"
   ]
  },
  {
   "cell_type": "code",
   "execution_count": 58,
   "id": "73f2fedc",
   "metadata": {},
   "outputs": [
    {
     "name": "stdout",
     "output_type": "stream",
     "text": [
      "bedroomcnt\n"
     ]
    },
    {
     "data": {
      "image/png": "[encoded data removed]",
      "text/plain": [
       "<Figure size 432x288 with 1 Axes>"
      ]
     },
     "metadata": {
      "needs_background": "light"
     },
     "output_type": "display_data"
    },
    {
     "name": "stdout",
     "output_type": "stream",
     "text": [
      "bathroomcnt\n"
     ]
    },
    {
     "data": {
      "image/png": "[encoded data removed]",
      "text/plain": [
       "<Figure size 432x288 with 1 Axes>"
      ]
     },
     "metadata": {
      "needs_background": "light"
     },
     "output_type": "display_data"
    },
    {
     "name": "stdout",
     "output_type": "stream",
     "text": [
      "calculatedfinishedsquarefeet\n"
     ]
    },
    {
     "data": {
      "image/png": "[encoded data removed]",
      "text/plain": [
       "<Figure size 432x288 with 1 Axes>"
      ]
     },
     "metadata": {
      "needs_background": "light"
     },
     "output_type": "display_data"
    },
    {
     "name": "stdout",
     "output_type": "stream",
     "text": [
      "taxvaluedollarcnt\n"
     ]
    },
    {
     "data": {
      "image/png": "[encoded data removed]",
      "text/plain": [
       "<Figure size 432x288 with 1 Axes>"
      ]
     },
     "metadata": {
      "needs_background": "light"
     },
     "output_type": "display_data"
    },
    {
     "name": "stdout",
     "output_type": "stream",
     "text": [
      "yearbuilt\n"
     ]
    },
    {
     "data": {
      "image/png": "[encoded data removed]",
      "text/plain": [
       "<Figure size 432x288 with 1 Axes>"
      ]
     },
     "metadata": {
      "needs_background": "light"
     },
     "output_type": "display_data"
    },
    {
     "name": "stdout",
     "output_type": "stream",
     "text": [
      "taxamount\n"
     ]
    },
    {
     "data": {
      "image/png": "[encoded data removed]",
      "text/plain": [
       "<Figure size 432x288 with 1 Axes>"
      ]
     },
     "metadata": {
      "needs_background": "light"
     },
     "output_type": "display_data"
    },
    {
     "name": "stdout",
     "output_type": "stream",
     "text": [
      "fips\n"
     ]
    },
    {
     "data": {
      "image/png": "[encoded data removed]",
      "text/plain": [
       "<Figure size 432x288 with 1 Axes>"
      ]
     },
     "metadata": {
      "needs_background": "light"
     },
     "output_type": "display_data"
    }
   ],
   "source": [
    "# visualising unscaled x_train sample.\n",
    "\n",
    "for col in x_train.columns:\n",
    "    print (col)\n",
    "    x_train[col].hist()\n",
    "    plt.show()"
   ]
  },
  {
   "cell_type": "code",
   "execution_count": 119,
   "id": "7de8fb94",
   "metadata": {},
   "outputs": [
    {
     "data": {
      "text/plain": [
       "MinMaxScaler()"
      ]
     },
     "execution_count": 119,
     "metadata": {},
     "output_type": "execute_result"
    }
   ],
   "source": [
    "# fit the scaler to train data sample\n",
    "scaler.fit(x_train)"
   ]
  },
  {
   "cell_type": "code",
   "execution_count": 120,
   "id": "df83e1ce",
   "metadata": {},
   "outputs": [],
   "source": [
    "#use.transform to apply scaling to all splitted data samples\n",
    "x_train_scaled = scaler.transform(x_train)\n",
    "x_validate_scaled = scaler.transform(x_validate)\n",
    "x_test_scaled = scaler.transform(x_test)"
   ]
  },
  {
   "cell_type": "code",
   "execution_count": 121,
   "id": "787da5fd",
   "metadata": {},
   "outputs": [],
   "source": [
    "# for col in x_train:\n",
    "#     scaler=sklearn.preprocessing.MinMaxScaler()\n",
    "#     x_train[col]= scaler.fit_transform(x_train[[col]])"
   ]
  },
  {
   "cell_type": "code",
   "execution_count": 122,
   "id": "626c5c80",
   "metadata": {},
   "outputs": [
    {
     "data": {
      "text/html": [
       "<div>\n",
       "<style scoped>\n",
       "    .dataframe tbody tr th:only-of-type {\n",
       "        vertical-align: middle;\n",
       "    }\n",
       "\n",
       "    .dataframe tbody tr th {\n",
       "        vertical-align: top;\n",
       "    }\n",
       "\n",
       "    .dataframe thead th {\n",
       "        text-align: right;\n",
       "    }\n",
       "</style>\n",
       "<table border=\"1\" class=\"dataframe\">\n",
       "  <thead>\n",
       "    <tr style=\"text-align: right;\">\n",
       "      <th></th>\n",
       "      <th>bedroomcnt</th>\n",
       "      <th>bathroomcnt</th>\n",
       "      <th>calculatedfinishedsquarefeet</th>\n",
       "      <th>taxvaluedollarcnt</th>\n",
       "      <th>yearbuilt</th>\n",
       "      <th>taxamount</th>\n",
       "      <th>fips</th>\n",
       "    </tr>\n",
       "  </thead>\n",
       "  <tbody>\n",
       "    <tr>\n",
       "      <th>0</th>\n",
       "      <td>0.500000</td>\n",
       "      <td>0.333333</td>\n",
       "      <td>0.001344</td>\n",
       "      <td>0.050561</td>\n",
       "      <td>0.879070</td>\n",
       "      <td>0.021110</td>\n",
       "      <td>0.000000</td>\n",
       "    </tr>\n",
       "    <tr>\n",
       "      <th>1</th>\n",
       "      <td>0.333333</td>\n",
       "      <td>0.166667</td>\n",
       "      <td>0.000907</td>\n",
       "      <td>0.111969</td>\n",
       "      <td>0.646512</td>\n",
       "      <td>0.034617</td>\n",
       "      <td>0.000000</td>\n",
       "    </tr>\n",
       "    <tr>\n",
       "      <th>2</th>\n",
       "      <td>0.500000</td>\n",
       "      <td>0.333333</td>\n",
       "      <td>0.001645</td>\n",
       "      <td>0.169198</td>\n",
       "      <td>0.711628</td>\n",
       "      <td>0.049719</td>\n",
       "      <td>0.000000</td>\n",
       "    </tr>\n",
       "    <tr>\n",
       "      <th>3</th>\n",
       "      <td>0.500000</td>\n",
       "      <td>0.166667</td>\n",
       "      <td>0.001236</td>\n",
       "      <td>0.220992</td>\n",
       "      <td>0.655814</td>\n",
       "      <td>0.056510</td>\n",
       "      <td>0.297297</td>\n",
       "    </tr>\n",
       "    <tr>\n",
       "      <th>4</th>\n",
       "      <td>0.666667</td>\n",
       "      <td>0.333333</td>\n",
       "      <td>0.002123</td>\n",
       "      <td>0.150876</td>\n",
       "      <td>0.688372</td>\n",
       "      <td>0.041371</td>\n",
       "      <td>0.000000</td>\n",
       "    </tr>\n",
       "  </tbody>\n",
       "</table>\n",
       "</div>"
      ],
      "text/plain": [
       "   bedroomcnt  bathroomcnt  calculatedfinishedsquarefeet  taxvaluedollarcnt  \\\n",
       "0    0.500000     0.333333                      0.001344           0.050561   \n",
       "1    0.333333     0.166667                      0.000907           0.111969   \n",
       "2    0.500000     0.333333                      0.001645           0.169198   \n",
       "3    0.500000     0.166667                      0.001236           0.220992   \n",
       "4    0.666667     0.333333                      0.002123           0.150876   \n",
       "\n",
       "   yearbuilt  taxamount      fips  \n",
       "0   0.879070   0.021110  0.000000  \n",
       "1   0.646512   0.034617  0.000000  \n",
       "2   0.711628   0.049719  0.000000  \n",
       "3   0.655814   0.056510  0.297297  \n",
       "4   0.688372   0.041371  0.000000  "
      ]
     },
     "execution_count": 122,
     "metadata": {},
     "output_type": "execute_result"
    }
   ],
   "source": [
    "# this is new scaled fit and transformed data\n",
    "x_train_scaled_df = pd.DataFrame(x_train_scaled, columns=x_train.columns)\n",
    "x_train_scaled_df.head()"
   ]
  },
  {
   "cell_type": "code",
   "execution_count": 124,
   "id": "938f5189",
   "metadata": {},
   "outputs": [
    {
     "name": "stdout",
     "output_type": "stream",
     "text": [
      "bedroomcnt\n"
     ]
    },
    {
     "data": {
      "image/png": "[encoded data removed]",
      "text/plain": [
       "<Figure size 432x288 with 1 Axes>"
      ]
     },
     "metadata": {
      "needs_background": "light"
     },
     "output_type": "display_data"
    },
    {
     "name": "stdout",
     "output_type": "stream",
     "text": [
      "bathroomcnt\n"
     ]
    },
    {
     "data": {
      "image/png": "[encoded data removed]",
      "text/plain": [
       "<Figure size 432x288 with 1 Axes>"
      ]
     },
     "metadata": {
      "needs_background": "light"
     },
     "output_type": "display_data"
    },
    {
     "name": "stdout",
     "output_type": "stream",
     "text": [
      "calculatedfinishedsquarefeet\n"
     ]
    },
    {
     "data": {
      "image/png": "[encoded data removed]",
      "text/plain": [
       "<Figure size 432x288 with 1 Axes>"
      ]
     },
     "metadata": {
      "needs_background": "light"
     },
     "output_type": "display_data"
    },
    {
     "name": "stdout",
     "output_type": "stream",
     "text": [
      "taxvaluedollarcnt\n"
     ]
    },
    {
     "data": {
      "image/png": "[encoded data removed]",
      "text/plain": [
       "<Figure size 432x288 with 1 Axes>"
      ]
     },
     "metadata": {
      "needs_background": "light"
     },
     "output_type": "display_data"
    },
    {
     "name": "stdout",
     "output_type": "stream",
     "text": [
      "yearbuilt\n"
     ]
    },
    {
     "data": {
      "image/png": "[encoded data removed]",
      "text/plain": [
       "<Figure size 432x288 with 1 Axes>"
      ]
     },
     "metadata": {
      "needs_background": "light"
     },
     "output_type": "display_data"
    },
    {
     "name": "stdout",
     "output_type": "stream",
     "text": [
      "taxamount\n"
     ]
    },
    {
     "data": {
      "image/png": "[encoded data removed]",
      "text/plain": [
       "<Figure size 432x288 with 1 Axes>"
      ]
     },
     "metadata": {
      "needs_background": "light"
     },
     "output_type": "display_data"
    },
    {
     "name": "stdout",
     "output_type": "stream",
     "text": [
      "fips\n"
     ]
    },
    {
     "data": {
      "image/png": "[encoded data removed]",
      "text/plain": [
       "<Figure size 432x288 with 1 Axes>"
      ]
     },
     "metadata": {
      "needs_background": "light"
     },
     "output_type": "display_data"
    }
   ],
   "source": [
    "#visualizing scaled data\n",
    "for col in x_train_scaled_df:\n",
    "    print(col)\n",
    "    x_train_scaled_df[col].hist(bins=20)\n",
    "    plt.show()"
   ]
  },
  {
   "cell_type": "markdown",
   "id": "e5c692c1",
   "metadata": {},
   "source": [
    "### 2.Apply the .inverse_transform method to your scaled data. Is the resulting dataset the exact same as the original data?"
   ]
  },
  {
   "cell_type": "code",
   "execution_count": 127,
   "id": "8390e55a",
   "metadata": {},
   "outputs": [
    {
     "data": {
      "text/html": [
       "<div>\n",
       "<style scoped>\n",
       "    .dataframe tbody tr th:only-of-type {\n",
       "        vertical-align: middle;\n",
       "    }\n",
       "\n",
       "    .dataframe tbody tr th {\n",
       "        vertical-align: top;\n",
       "    }\n",
       "\n",
       "    .dataframe thead th {\n",
       "        text-align: right;\n",
       "    }\n",
       "</style>\n",
       "<table border=\"1\" class=\"dataframe\">\n",
       "  <thead>\n",
       "    <tr style=\"text-align: right;\">\n",
       "      <th></th>\n",
       "      <th>bedroomcnt</th>\n",
       "      <th>bathroomcnt</th>\n",
       "      <th>calculatedfinishedsquarefeet</th>\n",
       "      <th>taxvaluedollarcnt</th>\n",
       "      <th>yearbuilt</th>\n",
       "      <th>taxamount</th>\n",
       "      <th>fips</th>\n",
       "    </tr>\n",
       "  </thead>\n",
       "  <tbody>\n",
       "    <tr>\n",
       "      <th>0</th>\n",
       "      <td>3.0</td>\n",
       "      <td>2.0</td>\n",
       "      <td>1281.0</td>\n",
       "      <td>101143.0</td>\n",
       "      <td>1990.0</td>\n",
       "      <td>1980.56</td>\n",
       "      <td>6037.0</td>\n",
       "    </tr>\n",
       "    <tr>\n",
       "      <th>1</th>\n",
       "      <td>2.0</td>\n",
       "      <td>1.0</td>\n",
       "      <td>865.0</td>\n",
       "      <td>223957.0</td>\n",
       "      <td>1940.0</td>\n",
       "      <td>3239.24</td>\n",
       "      <td>6037.0</td>\n",
       "    </tr>\n",
       "    <tr>\n",
       "      <th>2</th>\n",
       "      <td>3.0</td>\n",
       "      <td>2.0</td>\n",
       "      <td>1568.0</td>\n",
       "      <td>338413.0</td>\n",
       "      <td>1954.0</td>\n",
       "      <td>4646.58</td>\n",
       "      <td>6037.0</td>\n",
       "    </tr>\n",
       "    <tr>\n",
       "      <th>3</th>\n",
       "      <td>3.0</td>\n",
       "      <td>1.0</td>\n",
       "      <td>1178.0</td>\n",
       "      <td>442000.0</td>\n",
       "      <td>1942.0</td>\n",
       "      <td>5279.42</td>\n",
       "      <td>6059.0</td>\n",
       "    </tr>\n",
       "    <tr>\n",
       "      <th>4</th>\n",
       "      <td>4.0</td>\n",
       "      <td>2.0</td>\n",
       "      <td>2023.0</td>\n",
       "      <td>301770.0</td>\n",
       "      <td>1949.0</td>\n",
       "      <td>3868.67</td>\n",
       "      <td>6037.0</td>\n",
       "    </tr>\n",
       "  </tbody>\n",
       "</table>\n",
       "</div>"
      ],
      "text/plain": [
       "   bedroomcnt  bathroomcnt  calculatedfinishedsquarefeet  taxvaluedollarcnt  \\\n",
       "0         3.0          2.0                        1281.0           101143.0   \n",
       "1         2.0          1.0                         865.0           223957.0   \n",
       "2         3.0          2.0                        1568.0           338413.0   \n",
       "3         3.0          1.0                        1178.0           442000.0   \n",
       "4         4.0          2.0                        2023.0           301770.0   \n",
       "\n",
       "   yearbuilt  taxamount    fips  \n",
       "0     1990.0    1980.56  6037.0  \n",
       "1     1940.0    3239.24  6037.0  \n",
       "2     1954.0    4646.58  6037.0  \n",
       "3     1942.0    5279.42  6059.0  \n",
       "4     1949.0    3868.67  6037.0  "
      ]
     },
     "execution_count": 127,
     "metadata": {},
     "output_type": "execute_result"
    }
   ],
   "source": [
    "inverse= scaler.inverse_transform(x_train_scaled)\n",
    "df= pd.DataFrame(inverse,columns=x_train.columns)\n",
    "df.head()\n",
    "    "
   ]
  },
  {
   "cell_type": "markdown",
   "id": "23df4b33",
   "metadata": {},
   "source": [
    "### 3.Read the documentation for sklearn's QuantileTransformer. Use normal for the output_distribution and apply this scaler to your data. Visualize the result of your data scaling.\n"
   ]
  },
  {
   "cell_type": "code",
   "execution_count": 129,
   "id": "1cf89161",
   "metadata": {},
   "outputs": [],
   "source": [
    "quantile_transformer = sklearn.preprocessing.QuantileTransformer(output_distribution='normal', random_state=123)\n",
    "x_train_quantile= quantile_transformer.fit_transform(x_train)\n"
   ]
  },
  {
   "cell_type": "code",
   "execution_count": 130,
   "id": "1e3753aa",
   "metadata": {},
   "outputs": [
    {
     "data": {
      "text/html": [
       "<div>\n",
       "<style scoped>\n",
       "    .dataframe tbody tr th:only-of-type {\n",
       "        vertical-align: middle;\n",
       "    }\n",
       "\n",
       "    .dataframe tbody tr th {\n",
       "        vertical-align: top;\n",
       "    }\n",
       "\n",
       "    .dataframe thead th {\n",
       "        text-align: right;\n",
       "    }\n",
       "</style>\n",
       "<table border=\"1\" class=\"dataframe\">\n",
       "  <thead>\n",
       "    <tr style=\"text-align: right;\">\n",
       "      <th></th>\n",
       "      <th>bedroomcnt</th>\n",
       "      <th>bathroomcnt</th>\n",
       "      <th>calculatedfinishedsquarefeet</th>\n",
       "      <th>taxvaluedollarcnt</th>\n",
       "      <th>yearbuilt</th>\n",
       "      <th>taxamount</th>\n",
       "      <th>fips</th>\n",
       "    </tr>\n",
       "  </thead>\n",
       "  <tbody>\n",
       "    <tr>\n",
       "      <th>0</th>\n",
       "      <td>-0.256198</td>\n",
       "      <td>-0.157469</td>\n",
       "      <td>-0.602943</td>\n",
       "      <td>-1.158409</td>\n",
       "      <td>1.242061</td>\n",
       "      <td>-0.910426</td>\n",
       "      <td>-5.199338</td>\n",
       "    </tr>\n",
       "    <tr>\n",
       "      <th>1</th>\n",
       "      <td>-1.331018</td>\n",
       "      <td>-1.280981</td>\n",
       "      <td>-1.702890</td>\n",
       "      <td>-0.462160</td>\n",
       "      <td>-1.059682</td>\n",
       "      <td>-0.319738</td>\n",
       "      <td>-5.199338</td>\n",
       "    </tr>\n",
       "    <tr>\n",
       "      <th>2</th>\n",
       "      <td>-0.256198</td>\n",
       "      <td>-0.157469</td>\n",
       "      <td>-0.061513</td>\n",
       "      <td>0.072371</td>\n",
       "      <td>-0.291367</td>\n",
       "      <td>0.214391</td>\n",
       "      <td>-5.199338</td>\n",
       "    </tr>\n",
       "    <tr>\n",
       "      <th>3</th>\n",
       "      <td>-0.256198</td>\n",
       "      <td>-1.280981</td>\n",
       "      <td>-0.855287</td>\n",
       "      <td>0.451123</td>\n",
       "      <td>-0.965420</td>\n",
       "      <td>0.416679</td>\n",
       "      <td>0.819656</td>\n",
       "    </tr>\n",
       "    <tr>\n",
       "      <th>4</th>\n",
       "      <td>0.761353</td>\n",
       "      <td>-0.157469</td>\n",
       "      <td>0.539915</td>\n",
       "      <td>-0.082819</td>\n",
       "      <td>-0.686350</td>\n",
       "      <td>-0.062613</td>\n",
       "      <td>-5.199338</td>\n",
       "    </tr>\n",
       "  </tbody>\n",
       "</table>\n",
       "</div>"
      ],
      "text/plain": [
       "   bedroomcnt  bathroomcnt  calculatedfinishedsquarefeet  taxvaluedollarcnt  \\\n",
       "0   -0.256198    -0.157469                     -0.602943          -1.158409   \n",
       "1   -1.331018    -1.280981                     -1.702890          -0.462160   \n",
       "2   -0.256198    -0.157469                     -0.061513           0.072371   \n",
       "3   -0.256198    -1.280981                     -0.855287           0.451123   \n",
       "4    0.761353    -0.157469                      0.539915          -0.082819   \n",
       "\n",
       "   yearbuilt  taxamount      fips  \n",
       "0   1.242061  -0.910426 -5.199338  \n",
       "1  -1.059682  -0.319738 -5.199338  \n",
       "2  -0.291367   0.214391 -5.199338  \n",
       "3  -0.965420   0.416679  0.819656  \n",
       "4  -0.686350  -0.062613 -5.199338  "
      ]
     },
     "execution_count": 130,
     "metadata": {},
     "output_type": "execute_result"
    }
   ],
   "source": [
    "quantile= pd.DataFrame(x_train_quantile, columns=x_train.columns)\n",
    "quantile.head()"
   ]
  },
  {
   "cell_type": "code",
   "execution_count": 131,
   "id": "85a92dbf",
   "metadata": {},
   "outputs": [
    {
     "data": {
      "text/plain": [
       "(array([  2459.,      0.,      0.,      0.,      0.,      0.,      0.,\n",
       "             0.,      0.,  12731.,      0.,      0.,      0., 186695.,\n",
       "             0.,      0., 538170.,      0.,      0.,      0., 348908.,\n",
       "             0.,      0.,  78003.,      0.,      0.,      0.,      0.,\n",
       "             0.,      0.,      0.,      0.,      0.,      0.,  11236.]),\n",
       " array([-5.19933758, -4.90223258, -4.60512757, -4.30802257, -4.01091756,\n",
       "        -3.71381256, -3.41670755, -3.11960255, -2.82249754, -2.52539254,\n",
       "        -2.22828754, -1.93118253, -1.63407753, -1.33697252, -1.03986752,\n",
       "        -0.74276251, -0.44565751, -0.1485525 ,  0.1485525 ,  0.44565751,\n",
       "         0.74276251,  1.03986752,  1.33697252,  1.63407753,  1.93118253,\n",
       "         2.22828754,  2.52539254,  2.82249754,  3.11960255,  3.41670755,\n",
       "         3.71381256,  4.01091756,  4.30802257,  4.60512757,  4.90223258,\n",
       "         5.19933758]),\n",
       " <BarContainer object of 35 artists>)"
      ]
     },
     "execution_count": 131,
     "metadata": {},
     "output_type": "execute_result"
    },
    {
     "data": {
      "image/png": "[encoded data removed]",
      "text/plain": [
       "<Figure size 432x288 with 1 Axes>"
      ]
     },
     "metadata": {
      "needs_background": "light"
     },
     "output_type": "display_data"
    }
   ],
   "source": [
    "plt.hist(quantile.bedroomcnt, bins=35)"
   ]
  },
  {
   "cell_type": "markdown",
   "id": "25cd2a3a",
   "metadata": {},
   "source": [
    "### 4. Use the QuantileTransformer, but omit the output_distribution argument. Visualize your results. What do you notice?"
   ]
  },
  {
   "cell_type": "code",
   "execution_count": 74,
   "id": "26bcbe49",
   "metadata": {},
   "outputs": [],
   "source": [
    "quantile_transformer = sklearn.preprocessing.QuantileTransformer(random_state=123)\n",
    "x_train_quantile= quantile_transformer.fit_transform(x_train)"
   ]
  },
  {
   "cell_type": "code",
   "execution_count": 75,
   "id": "8f6e6594",
   "metadata": {},
   "outputs": [
    {
     "data": {
      "text/html": [
       "<div>\n",
       "<style scoped>\n",
       "    .dataframe tbody tr th:only-of-type {\n",
       "        vertical-align: middle;\n",
       "    }\n",
       "\n",
       "    .dataframe tbody tr th {\n",
       "        vertical-align: top;\n",
       "    }\n",
       "\n",
       "    .dataframe thead th {\n",
       "        text-align: right;\n",
       "    }\n",
       "</style>\n",
       "<table border=\"1\" class=\"dataframe\">\n",
       "  <thead>\n",
       "    <tr style=\"text-align: right;\">\n",
       "      <th></th>\n",
       "      <th>bedroomcnt</th>\n",
       "      <th>bathroomcnt</th>\n",
       "      <th>calculatedfinishedsquarefeet</th>\n",
       "      <th>taxvaluedollarcnt</th>\n",
       "      <th>yearbuilt</th>\n",
       "      <th>taxamount</th>\n",
       "      <th>fips</th>\n",
       "    </tr>\n",
       "  </thead>\n",
       "  <tbody>\n",
       "    <tr>\n",
       "      <th>817182</th>\n",
       "      <td>0.333333</td>\n",
       "      <td>0.166667</td>\n",
       "      <td>0.014843</td>\n",
       "      <td>0.087692</td>\n",
       "      <td>0.595349</td>\n",
       "      <td>0.039522</td>\n",
       "      <td>1.000000</td>\n",
       "    </tr>\n",
       "    <tr>\n",
       "      <th>232818</th>\n",
       "      <td>0.666667</td>\n",
       "      <td>0.500000</td>\n",
       "      <td>0.042081</td>\n",
       "      <td>0.217513</td>\n",
       "      <td>0.855814</td>\n",
       "      <td>0.083486</td>\n",
       "      <td>0.000000</td>\n",
       "    </tr>\n",
       "    <tr>\n",
       "      <th>334226</th>\n",
       "      <td>0.500000</td>\n",
       "      <td>0.416667</td>\n",
       "      <td>0.049106</td>\n",
       "      <td>0.480516</td>\n",
       "      <td>0.902326</td>\n",
       "      <td>0.148353</td>\n",
       "      <td>0.297297</td>\n",
       "    </tr>\n",
       "    <tr>\n",
       "      <th>1075691</th>\n",
       "      <td>0.500000</td>\n",
       "      <td>0.333333</td>\n",
       "      <td>0.034786</td>\n",
       "      <td>0.242038</td>\n",
       "      <td>0.679070</td>\n",
       "      <td>0.086707</td>\n",
       "      <td>0.000000</td>\n",
       "    </tr>\n",
       "    <tr>\n",
       "      <th>1482729</th>\n",
       "      <td>0.500000</td>\n",
       "      <td>0.333333</td>\n",
       "      <td>0.023134</td>\n",
       "      <td>0.268515</td>\n",
       "      <td>0.706977</td>\n",
       "      <td>0.099454</td>\n",
       "      <td>0.000000</td>\n",
       "    </tr>\n",
       "  </tbody>\n",
       "</table>\n",
       "</div>"
      ],
      "text/plain": [
       "         bedroomcnt  bathroomcnt  calculatedfinishedsquarefeet  \\\n",
       "817182     0.333333     0.166667                      0.014843   \n",
       "232818     0.666667     0.500000                      0.042081   \n",
       "334226     0.500000     0.416667                      0.049106   \n",
       "1075691    0.500000     0.333333                      0.034786   \n",
       "1482729    0.500000     0.333333                      0.023134   \n",
       "\n",
       "         taxvaluedollarcnt  yearbuilt  taxamount      fips  \n",
       "817182            0.087692   0.595349   0.039522  1.000000  \n",
       "232818            0.217513   0.855814   0.083486  0.000000  \n",
       "334226            0.480516   0.902326   0.148353  0.297297  \n",
       "1075691           0.242038   0.679070   0.086707  0.000000  \n",
       "1482729           0.268515   0.706977   0.099454  0.000000  "
      ]
     },
     "execution_count": 75,
     "metadata": {},
     "output_type": "execute_result"
    }
   ],
   "source": [
    "x_train.head()"
   ]
  },
  {
   "cell_type": "code",
   "execution_count": null,
   "id": "ad3efee7",
   "metadata": {},
   "outputs": [],
   "source": [
    "for col in x_train:\n",
    "    scaler=sklearn.preprocessing.MinMaxScaler()\n",
    "    x_train[col]= scaler.fit_transform(x_train[[col]])"
   ]
  }
 ],
 "metadata": {
  "kernelspec": {
   "display_name": "Python 3 (ipykernel)",
   "language": "python",
   "name": "python3"
  },
  "language_info": {
   "codemirror_mode": {
    "name": "ipython",
    "version": 3
   },
   "file_extension": ".py",
   "mimetype": "text/x-python",
   "name": "python",
   "nbconvert_exporter": "python",
   "pygments_lexer": "ipython3",
   "version": "3.9.12"
  }
 },
 "nbformat": 4,
 "nbformat_minor": 5
}
