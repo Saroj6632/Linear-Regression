{
 "cells": [
  {
   "cell_type": "code",
   "execution_count": 50,
   "id": "883ae6c2",
   "metadata": {},
   "outputs": [],
   "source": [
    "import matplotlib.pyplot as plt\n",
    "import numpy as np\n",
    "from scipy import stats\n",
    "import sklearn.preprocessing\n",
    "from sklearn.model_selection import train_test_split\n",
    "import pandas as pd\n",
    "from wrangle import wrangle_zillow"
   ]
  },
  {
   "cell_type": "markdown",
   "id": "9936a4a4",
   "metadata": {},
   "source": [
    "## 1.Apply the scalers we talked about in this lesson to your data and visualize the results for the unscaled and scaled distribution "
   ]
  },
  {
   "cell_type": "code",
   "execution_count": 73,
   "id": "aa3dfb4a",
   "metadata": {},
   "outputs": [
    {
     "data": {
      "text/html": [
       "<div>\n",
       "<style scoped>\n",
       "    .dataframe tbody tr th:only-of-type {\n",
       "        vertical-align: middle;\n",
       "    }\n",
       "\n",
       "    .dataframe tbody tr th {\n",
       "        vertical-align: top;\n",
       "    }\n",
       "\n",
       "    .dataframe thead th {\n",
       "        text-align: right;\n",
       "    }\n",
       "</style>\n",
       "<table border=\"1\" class=\"dataframe\">\n",
       "  <thead>\n",
       "    <tr style=\"text-align: right;\">\n",
       "      <th></th>\n",
       "      <th>bedroomcnt</th>\n",
       "      <th>bathroomcnt</th>\n",
       "      <th>calculatedfinishedsquarefeet</th>\n",
       "      <th>taxvaluedollarcnt</th>\n",
       "      <th>yearbuilt</th>\n",
       "      <th>taxamount</th>\n",
       "      <th>fips</th>\n",
       "    </tr>\n",
       "  </thead>\n",
       "  <tbody>\n",
       "    <tr>\n",
       "      <th>0</th>\n",
       "      <td>4</td>\n",
       "      <td>2.0</td>\n",
       "      <td>3633</td>\n",
       "      <td>296425</td>\n",
       "      <td>2005</td>\n",
       "      <td>6941.39</td>\n",
       "      <td>6037</td>\n",
       "    </tr>\n",
       "    <tr>\n",
       "      <th>1</th>\n",
       "      <td>3</td>\n",
       "      <td>4.0</td>\n",
       "      <td>1620</td>\n",
       "      <td>847770</td>\n",
       "      <td>2011</td>\n",
       "      <td>10244.94</td>\n",
       "      <td>6037</td>\n",
       "    </tr>\n",
       "    <tr>\n",
       "      <th>2</th>\n",
       "      <td>3</td>\n",
       "      <td>2.0</td>\n",
       "      <td>2077</td>\n",
       "      <td>646760</td>\n",
       "      <td>1926</td>\n",
       "      <td>7924.68</td>\n",
       "      <td>6037</td>\n",
       "    </tr>\n",
       "    <tr>\n",
       "      <th>3</th>\n",
       "      <td>0</td>\n",
       "      <td>0.0</td>\n",
       "      <td>1200</td>\n",
       "      <td>5328</td>\n",
       "      <td>1972</td>\n",
       "      <td>91.60</td>\n",
       "      <td>6037</td>\n",
       "    </tr>\n",
       "    <tr>\n",
       "      <th>4</th>\n",
       "      <td>0</td>\n",
       "      <td>0.0</td>\n",
       "      <td>171</td>\n",
       "      <td>6920</td>\n",
       "      <td>1973</td>\n",
       "      <td>255.17</td>\n",
       "      <td>6037</td>\n",
       "    </tr>\n",
       "  </tbody>\n",
       "</table>\n",
       "</div>"
      ],
      "text/plain": [
       "   bedroomcnt  bathroomcnt  calculatedfinishedsquarefeet  taxvaluedollarcnt  \\\n",
       "0           4          2.0                          3633             296425   \n",
       "1           3          4.0                          1620             847770   \n",
       "2           3          2.0                          2077             646760   \n",
       "3           0          0.0                          1200               5328   \n",
       "4           0          0.0                           171               6920   \n",
       "\n",
       "   yearbuilt  taxamount  fips  \n",
       "0       2005    6941.39  6037  \n",
       "1       2011   10244.94  6037  \n",
       "2       1926    7924.68  6037  \n",
       "3       1972      91.60  6037  \n",
       "4       1973     255.17  6037  "
      ]
     },
     "execution_count": 73,
     "metadata": {},
     "output_type": "execute_result"
    }
   ],
   "source": [
    "df= wrangle_zillow()\n",
    "df.head()"
   ]
  },
  {
   "cell_type": "markdown",
   "id": "61d0fed8",
   "metadata": {},
   "source": [
    "### Unscaled Data visualisation"
   ]
  },
  {
   "cell_type": "code",
   "execution_count": 8,
   "id": "6916390e",
   "metadata": {},
   "outputs": [
    {
     "name": "stdout",
     "output_type": "stream",
     "text": [
      "bedroomcnt\n"
     ]
    },
    {
     "data": {
      "image/png": "[encoded data removed]",
      "text/plain": [
       "<Figure size 432x288 with 1 Axes>"
      ]
     },
     "metadata": {
      "needs_background": "light"
     },
     "output_type": "display_data"
    },
    {
     "name": "stdout",
     "output_type": "stream",
     "text": [
      "bathroomcnt\n"
     ]
    },
    {
     "data": {
      "image/png": "[encoded data removed]",
      "text/plain": [
       "<Figure size 432x288 with 1 Axes>"
      ]
     },
     "metadata": {
      "needs_background": "light"
     },
     "output_type": "display_data"
    },
    {
     "name": "stdout",
     "output_type": "stream",
     "text": [
      "calculatedfinishedsquarefeet\n"
     ]
    },
    {
     "data": {
      "image/png": "[encoded data removed]",
      "text/plain": [
       "<Figure size 432x288 with 1 Axes>"
      ]
     },
     "metadata": {
      "needs_background": "light"
     },
     "output_type": "display_data"
    },
    {
     "name": "stdout",
     "output_type": "stream",
     "text": [
      "taxvaluedollarcnt\n"
     ]
    },
    {
     "data": {
      "image/png": "[encoded data removed]",
      "text/plain": [
       "<Figure size 432x288 with 1 Axes>"
      ]
     },
     "metadata": {
      "needs_background": "light"
     },
     "output_type": "display_data"
    },
    {
     "name": "stdout",
     "output_type": "stream",
     "text": [
      "yearbuilt\n"
     ]
    },
    {
     "data": {
      "image/png": "[encoded data removed]",
      "text/plain": [
       "<Figure size 432x288 with 1 Axes>"
      ]
     },
     "metadata": {
      "needs_background": "light"
     },
     "output_type": "display_data"
    },
    {
     "name": "stdout",
     "output_type": "stream",
     "text": [
      "taxamount\n"
     ]
    },
    {
     "data": {
      "image/png": "[encoded data removed]",
      "text/plain": [
       "<Figure size 432x288 with 1 Axes>"
      ]
     },
     "metadata": {
      "needs_background": "light"
     },
     "output_type": "display_data"
    },
    {
     "name": "stdout",
     "output_type": "stream",
     "text": [
      "fips\n"
     ]
    },
    {
     "data": {
      "image/png": "[encoded data removed]",
      "text/plain": [
       "<Figure size 432x288 with 1 Axes>"
      ]
     },
     "metadata": {
      "needs_background": "light"
     },
     "output_type": "display_data"
    }
   ],
   "source": [
    "for col in df.columns:\n",
    "    print(col)\n",
    "    df[col].hist()\n",
    "    plt.show()"
   ]
  },
  {
   "cell_type": "markdown",
   "id": "95f5ba50",
   "metadata": {},
   "source": [
    "### Scaled Data visualisation"
   ]
  },
  {
   "cell_type": "code",
   "execution_count": 74,
   "id": "e3024198",
   "metadata": {},
   "outputs": [
    {
     "data": {
      "text/plain": [
       "Index(['bedroomcnt', 'bathroomcnt', 'calculatedfinishedsquarefeet',\n",
       "       'taxvaluedollarcnt', 'yearbuilt', 'taxamount', 'fips'],\n",
       "      dtype='object')"
      ]
     },
     "execution_count": 74,
     "metadata": {},
     "output_type": "execute_result"
    }
   ],
   "source": [
    "df.columns\n"
   ]
  },
  {
   "cell_type": "code",
   "execution_count": 77,
   "id": "665ca815",
   "metadata": {},
   "outputs": [],
   "source": [
    "# columns that needed to be scaled in a list. \n",
    "scale_col=['bathroomcnt', 'bedroomcnt','calculatedfinishedsquarefeet']"
   ]
  },
  {
   "cell_type": "code",
   "execution_count": 78,
   "id": "2649e9a0",
   "metadata": {},
   "outputs": [],
   "source": [
    "scaler=sklearn.preprocessing.MinMaxScaler()"
   ]
  },
  {
   "cell_type": "code",
   "execution_count": 79,
   "id": "69051653",
   "metadata": {},
   "outputs": [],
   "source": [
    "# splitting the data into train, validate and test sample.\n",
    "train_and_validate, test = train_test_split(df,test_size=.2 ,random_state=123)\n",
    "train, validate = train_test_split(train_and_validate,test_size=.3,random_state=123)"
   ]
  },
  {
   "cell_type": "code",
   "execution_count": 80,
   "id": "a82afcb8",
   "metadata": {},
   "outputs": [
    {
     "name": "stdout",
     "output_type": "stream",
     "text": [
      "(1172966, 7) (502700, 7) (418917, 7)\n"
     ]
    }
   ],
   "source": [
    "print(train.shape, validate.shape, test.shape)"
   ]
  },
  {
   "cell_type": "code",
   "execution_count": 81,
   "id": "4fc19587",
   "metadata": {},
   "outputs": [
    {
     "data": {
      "text/html": [
       "<div>\n",
       "<style scoped>\n",
       "    .dataframe tbody tr th:only-of-type {\n",
       "        vertical-align: middle;\n",
       "    }\n",
       "\n",
       "    .dataframe tbody tr th {\n",
       "        vertical-align: top;\n",
       "    }\n",
       "\n",
       "    .dataframe thead th {\n",
       "        text-align: right;\n",
       "    }\n",
       "</style>\n",
       "<table border=\"1\" class=\"dataframe\">\n",
       "  <thead>\n",
       "    <tr style=\"text-align: right;\">\n",
       "      <th></th>\n",
       "      <th>bedroomcnt</th>\n",
       "      <th>bathroomcnt</th>\n",
       "      <th>calculatedfinishedsquarefeet</th>\n",
       "      <th>taxvaluedollarcnt</th>\n",
       "      <th>yearbuilt</th>\n",
       "      <th>taxamount</th>\n",
       "      <th>fips</th>\n",
       "    </tr>\n",
       "  </thead>\n",
       "  <tbody>\n",
       "    <tr>\n",
       "      <th>410426</th>\n",
       "      <td>3</td>\n",
       "      <td>2.0</td>\n",
       "      <td>1550</td>\n",
       "      <td>357034</td>\n",
       "      <td>1961</td>\n",
       "      <td>4418.72</td>\n",
       "      <td>6037</td>\n",
       "    </tr>\n",
       "    <tr>\n",
       "      <th>533217</th>\n",
       "      <td>3</td>\n",
       "      <td>3.5</td>\n",
       "      <td>1800</td>\n",
       "      <td>287774</td>\n",
       "      <td>1996</td>\n",
       "      <td>2798.18</td>\n",
       "      <td>6059</td>\n",
       "    </tr>\n",
       "    <tr>\n",
       "      <th>695362</th>\n",
       "      <td>3</td>\n",
       "      <td>2.0</td>\n",
       "      <td>1542</td>\n",
       "      <td>588738</td>\n",
       "      <td>1923</td>\n",
       "      <td>7210.51</td>\n",
       "      <td>6037</td>\n",
       "    </tr>\n",
       "    <tr>\n",
       "      <th>729442</th>\n",
       "      <td>3</td>\n",
       "      <td>1.0</td>\n",
       "      <td>1128</td>\n",
       "      <td>290984</td>\n",
       "      <td>1952</td>\n",
       "      <td>3622.02</td>\n",
       "      <td>6037</td>\n",
       "    </tr>\n",
       "    <tr>\n",
       "      <th>524897</th>\n",
       "      <td>0</td>\n",
       "      <td>1.0</td>\n",
       "      <td>396</td>\n",
       "      <td>34541</td>\n",
       "      <td>1942</td>\n",
       "      <td>579.61</td>\n",
       "      <td>6037</td>\n",
       "    </tr>\n",
       "  </tbody>\n",
       "</table>\n",
       "</div>"
      ],
      "text/plain": [
       "        bedroomcnt  bathroomcnt  calculatedfinishedsquarefeet  \\\n",
       "410426           3          2.0                          1550   \n",
       "533217           3          3.5                          1800   \n",
       "695362           3          2.0                          1542   \n",
       "729442           3          1.0                          1128   \n",
       "524897           0          1.0                           396   \n",
       "\n",
       "        taxvaluedollarcnt  yearbuilt  taxamount  fips  \n",
       "410426             357034       1961    4418.72  6037  \n",
       "533217             287774       1996    2798.18  6059  \n",
       "695362             588738       1923    7210.51  6037  \n",
       "729442             290984       1952    3622.02  6037  \n",
       "524897              34541       1942     579.61  6037  "
      ]
     },
     "execution_count": 81,
     "metadata": {},
     "output_type": "execute_result"
    }
   ],
   "source": [
    "train.head()"
   ]
  },
  {
   "cell_type": "code",
   "execution_count": 82,
   "id": "5541e6c6",
   "metadata": {},
   "outputs": [
    {
     "data": {
      "text/html": [
       "<div>\n",
       "<style scoped>\n",
       "    .dataframe tbody tr th:only-of-type {\n",
       "        vertical-align: middle;\n",
       "    }\n",
       "\n",
       "    .dataframe tbody tr th {\n",
       "        vertical-align: top;\n",
       "    }\n",
       "\n",
       "    .dataframe thead th {\n",
       "        text-align: right;\n",
       "    }\n",
       "</style>\n",
       "<table border=\"1\" class=\"dataframe\">\n",
       "  <thead>\n",
       "    <tr style=\"text-align: right;\">\n",
       "      <th></th>\n",
       "      <th>bathroomcnt</th>\n",
       "      <th>bedroomcnt</th>\n",
       "      <th>calculatedfinishedsquarefeet</th>\n",
       "    </tr>\n",
       "  </thead>\n",
       "  <tbody>\n",
       "    <tr>\n",
       "      <th>410426</th>\n",
       "      <td>2.0</td>\n",
       "      <td>3</td>\n",
       "      <td>1550</td>\n",
       "    </tr>\n",
       "    <tr>\n",
       "      <th>533217</th>\n",
       "      <td>3.5</td>\n",
       "      <td>3</td>\n",
       "      <td>1800</td>\n",
       "    </tr>\n",
       "    <tr>\n",
       "      <th>695362</th>\n",
       "      <td>2.0</td>\n",
       "      <td>3</td>\n",
       "      <td>1542</td>\n",
       "    </tr>\n",
       "    <tr>\n",
       "      <th>729442</th>\n",
       "      <td>1.0</td>\n",
       "      <td>3</td>\n",
       "      <td>1128</td>\n",
       "    </tr>\n",
       "    <tr>\n",
       "      <th>524897</th>\n",
       "      <td>1.0</td>\n",
       "      <td>0</td>\n",
       "      <td>396</td>\n",
       "    </tr>\n",
       "  </tbody>\n",
       "</table>\n",
       "</div>"
      ],
      "text/plain": [
       "        bathroomcnt  bedroomcnt  calculatedfinishedsquarefeet\n",
       "410426          2.0           3                          1550\n",
       "533217          3.5           3                          1800\n",
       "695362          2.0           3                          1542\n",
       "729442          1.0           3                          1128\n",
       "524897          1.0           0                           396"
      ]
     },
     "execution_count": 82,
     "metadata": {},
     "output_type": "execute_result"
    }
   ],
   "source": [
    "train[scale_col].head()"
   ]
  },
  {
   "cell_type": "code",
   "execution_count": 83,
   "id": "73f2fedc",
   "metadata": {},
   "outputs": [
    {
     "name": "stdout",
     "output_type": "stream",
     "text": [
      "bathroomcnt\n"
     ]
    },
    {
     "data": {
      "image/png": "[encoded data removed]",
      "text/plain": [
       "<Figure size 432x288 with 1 Axes>"
      ]
     },
     "metadata": {
      "needs_background": "light"
     },
     "output_type": "display_data"
    },
    {
     "name": "stdout",
     "output_type": "stream",
     "text": [
      "bedroomcnt\n"
     ]
    },
    {
     "data": {
      "image/png": "[encoded data removed]",
      "text/plain": [
       "<Figure size 432x288 with 1 Axes>"
      ]
     },
     "metadata": {
      "needs_background": "light"
     },
     "output_type": "display_data"
    },
    {
     "name": "stdout",
     "output_type": "stream",
     "text": [
      "calculatedfinishedsquarefeet\n"
     ]
    },
    {
     "data": {
      "image/png": "[encoded data removed]",
      "text/plain": [
       "<Figure size 432x288 with 1 Axes>"
      ]
     },
     "metadata": {
      "needs_background": "light"
     },
     "output_type": "display_data"
    }
   ],
   "source": [
    "# visualising unscaled x_train sample.\n",
    "\n",
    "for col in train[scale_col]:\n",
    "    print (col)\n",
    "    train[col].hist(bins=20)\n",
    "    plt.show()"
   ]
  },
  {
   "cell_type": "code",
   "execution_count": 85,
   "id": "7de8fb94",
   "metadata": {},
   "outputs": [
    {
     "data": {
      "text/plain": [
       "MinMaxScaler()"
      ]
     },
     "execution_count": 85,
     "metadata": {},
     "output_type": "execute_result"
    }
   ],
   "source": [
    "# fit the scaler to train data sample\n",
    "scaler.fit(train[scale_col])"
   ]
  },
  {
   "cell_type": "code",
   "execution_count": 86,
   "id": "df83e1ce",
   "metadata": {},
   "outputs": [],
   "source": [
    "#use.transform to apply scaling to all splitted data samples\n",
    "train_scaled = scaler.transform(train[scale_col])\n",
    "validate_scaled = scaler.transform(validate[scale_col])\n",
    "test_scaled = scaler.transform(test[scale_col])"
   ]
  },
  {
   "cell_type": "code",
   "execution_count": 62,
   "id": "787da5fd",
   "metadata": {},
   "outputs": [],
   "source": [
    "# for col in x_train:\n",
    "#     scaler=sklearn.preprocessing.MinMaxScaler()\n",
    "#     x_train[col]= scaler.fit_transform(x_train[[col]])"
   ]
  },
  {
   "cell_type": "code",
   "execution_count": 87,
   "id": "626c5c80",
   "metadata": {},
   "outputs": [
    {
     "data": {
      "text/html": [
       "<div>\n",
       "<style scoped>\n",
       "    .dataframe tbody tr th:only-of-type {\n",
       "        vertical-align: middle;\n",
       "    }\n",
       "\n",
       "    .dataframe tbody tr th {\n",
       "        vertical-align: top;\n",
       "    }\n",
       "\n",
       "    .dataframe thead th {\n",
       "        text-align: right;\n",
       "    }\n",
       "</style>\n",
       "<table border=\"1\" class=\"dataframe\">\n",
       "  <thead>\n",
       "    <tr style=\"text-align: right;\">\n",
       "      <th></th>\n",
       "      <th>bathroomcnt</th>\n",
       "      <th>bedroomcnt</th>\n",
       "      <th>calculatedfinishedsquarefeet</th>\n",
       "    </tr>\n",
       "  </thead>\n",
       "  <tbody>\n",
       "    <tr>\n",
       "      <th>0</th>\n",
       "      <td>0.333333</td>\n",
       "      <td>0.5</td>\n",
       "      <td>0.002916</td>\n",
       "    </tr>\n",
       "    <tr>\n",
       "      <th>1</th>\n",
       "      <td>0.583333</td>\n",
       "      <td>0.5</td>\n",
       "      <td>0.003387</td>\n",
       "    </tr>\n",
       "    <tr>\n",
       "      <th>2</th>\n",
       "      <td>0.333333</td>\n",
       "      <td>0.5</td>\n",
       "      <td>0.002901</td>\n",
       "    </tr>\n",
       "    <tr>\n",
       "      <th>3</th>\n",
       "      <td>0.166667</td>\n",
       "      <td>0.5</td>\n",
       "      <td>0.002122</td>\n",
       "    </tr>\n",
       "    <tr>\n",
       "      <th>4</th>\n",
       "      <td>0.166667</td>\n",
       "      <td>0.0</td>\n",
       "      <td>0.000744</td>\n",
       "    </tr>\n",
       "  </tbody>\n",
       "</table>\n",
       "</div>"
      ],
      "text/plain": [
       "   bathroomcnt  bedroomcnt  calculatedfinishedsquarefeet\n",
       "0     0.333333         0.5                      0.002916\n",
       "1     0.583333         0.5                      0.003387\n",
       "2     0.333333         0.5                      0.002901\n",
       "3     0.166667         0.5                      0.002122\n",
       "4     0.166667         0.0                      0.000744"
      ]
     },
     "execution_count": 87,
     "metadata": {},
     "output_type": "execute_result"
    }
   ],
   "source": [
    "# this is new scaled fit and transformed data\n",
    "train_scaled_df = pd.DataFrame(train_scaled, columns=scale_col)\n",
    "train_scaled_df.head()"
   ]
  },
  {
   "cell_type": "code",
   "execution_count": 64,
   "id": "938f5189",
   "metadata": {},
   "outputs": [
    {
     "name": "stdout",
     "output_type": "stream",
     "text": [
      "bathroomcnt\n"
     ]
    },
    {
     "data": {
      "image/png": "[encoded data removed]",
      "text/plain": [
       "<Figure size 432x288 with 1 Axes>"
      ]
     },
     "metadata": {
      "needs_background": "light"
     },
     "output_type": "display_data"
    },
    {
     "name": "stdout",
     "output_type": "stream",
     "text": [
      "bedroomcnt\n"
     ]
    },
    {
     "data": {
      "image/png": "[encoded data removed]",
      "text/plain": [
       "<Figure size 432x288 with 1 Axes>"
      ]
     },
     "metadata": {
      "needs_background": "light"
     },
     "output_type": "display_data"
    },
    {
     "name": "stdout",
     "output_type": "stream",
     "text": [
      "calculatedfinishedsquarefeet\n"
     ]
    },
    {
     "data": {
      "image/png": "[encoded data removed]",
      "text/plain": [
       "<Figure size 432x288 with 1 Axes>"
      ]
     },
     "metadata": {
      "needs_background": "light"
     },
     "output_type": "display_data"
    }
   ],
   "source": [
    "#visualizing scaled data\n",
    "for col in x_train_scaled_df:\n",
    "    print(col)\n",
    "    x_train_scaled_df[col].hist(bins=20)\n",
    "    plt.show()"
   ]
  },
  {
   "cell_type": "markdown",
   "id": "e5c692c1",
   "metadata": {},
   "source": [
    "### 2.Apply the .inverse_transform method to your scaled data. Is the resulting dataset the exact same as the original data?"
   ]
  },
  {
   "cell_type": "code",
   "execution_count": 65,
   "id": "8390e55a",
   "metadata": {},
   "outputs": [
    {
     "data": {
      "text/html": [
       "<div>\n",
       "<style scoped>\n",
       "    .dataframe tbody tr th:only-of-type {\n",
       "        vertical-align: middle;\n",
       "    }\n",
       "\n",
       "    .dataframe tbody tr th {\n",
       "        vertical-align: top;\n",
       "    }\n",
       "\n",
       "    .dataframe thead th {\n",
       "        text-align: right;\n",
       "    }\n",
       "</style>\n",
       "<table border=\"1\" class=\"dataframe\">\n",
       "  <thead>\n",
       "    <tr style=\"text-align: right;\">\n",
       "      <th></th>\n",
       "      <th>bathroomcnt</th>\n",
       "      <th>bedroomcnt</th>\n",
       "      <th>calculatedfinishedsquarefeet</th>\n",
       "    </tr>\n",
       "  </thead>\n",
       "  <tbody>\n",
       "    <tr>\n",
       "      <th>0</th>\n",
       "      <td>2.0</td>\n",
       "      <td>3.0</td>\n",
       "      <td>1550.0</td>\n",
       "    </tr>\n",
       "    <tr>\n",
       "      <th>1</th>\n",
       "      <td>3.5</td>\n",
       "      <td>3.0</td>\n",
       "      <td>1800.0</td>\n",
       "    </tr>\n",
       "    <tr>\n",
       "      <th>2</th>\n",
       "      <td>2.0</td>\n",
       "      <td>3.0</td>\n",
       "      <td>1542.0</td>\n",
       "    </tr>\n",
       "    <tr>\n",
       "      <th>3</th>\n",
       "      <td>1.0</td>\n",
       "      <td>3.0</td>\n",
       "      <td>1128.0</td>\n",
       "    </tr>\n",
       "    <tr>\n",
       "      <th>4</th>\n",
       "      <td>1.0</td>\n",
       "      <td>0.0</td>\n",
       "      <td>396.0</td>\n",
       "    </tr>\n",
       "  </tbody>\n",
       "</table>\n",
       "</div>"
      ],
      "text/plain": [
       "   bathroomcnt  bedroomcnt  calculatedfinishedsquarefeet\n",
       "0          2.0         3.0                        1550.0\n",
       "1          3.5         3.0                        1800.0\n",
       "2          2.0         3.0                        1542.0\n",
       "3          1.0         3.0                        1128.0\n",
       "4          1.0         0.0                         396.0"
      ]
     },
     "execution_count": 65,
     "metadata": {},
     "output_type": "execute_result"
    }
   ],
   "source": [
    "inverse= scaler.inverse_transform(train_scaled)\n",
    "df= pd.DataFrame(inverse,columns=scale_col)\n",
    "df.head()\n",
    "    "
   ]
  },
  {
   "cell_type": "markdown",
   "id": "23df4b33",
   "metadata": {},
   "source": [
    "### 3.Read the documentation for sklearn's QuantileTransformer. Use normal for the output_distribution and apply this scaler to your data. Visualize the result of your data scaling.\n"
   ]
  },
  {
   "cell_type": "code",
   "execution_count": 88,
   "id": "1cf89161",
   "metadata": {},
   "outputs": [],
   "source": [
    "quantile_transformer = sklearn.preprocessing.QuantileTransformer(output_distribution='normal', random_state=123)\n",
    "train_quantile= quantile_transformer.fit_transform(train[scale_col])\n"
   ]
  },
  {
   "cell_type": "code",
   "execution_count": 89,
   "id": "1e3753aa",
   "metadata": {},
   "outputs": [
    {
     "data": {
      "text/html": [
       "<div>\n",
       "<style scoped>\n",
       "    .dataframe tbody tr th:only-of-type {\n",
       "        vertical-align: middle;\n",
       "    }\n",
       "\n",
       "    .dataframe tbody tr th {\n",
       "        vertical-align: top;\n",
       "    }\n",
       "\n",
       "    .dataframe thead th {\n",
       "        text-align: right;\n",
       "    }\n",
       "</style>\n",
       "<table border=\"1\" class=\"dataframe\">\n",
       "  <thead>\n",
       "    <tr style=\"text-align: right;\">\n",
       "      <th></th>\n",
       "      <th>bathroomcnt</th>\n",
       "      <th>bedroomcnt</th>\n",
       "      <th>calculatedfinishedsquarefeet</th>\n",
       "    </tr>\n",
       "  </thead>\n",
       "  <tbody>\n",
       "    <tr>\n",
       "      <th>0</th>\n",
       "      <td>-0.157469</td>\n",
       "      <td>-0.254902</td>\n",
       "      <td>-0.091712</td>\n",
       "    </tr>\n",
       "    <tr>\n",
       "      <th>1</th>\n",
       "      <td>1.525529</td>\n",
       "      <td>-0.254902</td>\n",
       "      <td>0.279606</td>\n",
       "    </tr>\n",
       "    <tr>\n",
       "      <th>2</th>\n",
       "      <td>-0.157469</td>\n",
       "      <td>-0.254902</td>\n",
       "      <td>-0.104318</td>\n",
       "    </tr>\n",
       "    <tr>\n",
       "      <th>3</th>\n",
       "      <td>-1.280981</td>\n",
       "      <td>-0.254902</td>\n",
       "      <td>-0.977487</td>\n",
       "    </tr>\n",
       "    <tr>\n",
       "      <th>4</th>\n",
       "      <td>-1.280981</td>\n",
       "      <td>-5.199338</td>\n",
       "      <td>-3.092927</td>\n",
       "    </tr>\n",
       "  </tbody>\n",
       "</table>\n",
       "</div>"
      ],
      "text/plain": [
       "   bathroomcnt  bedroomcnt  calculatedfinishedsquarefeet\n",
       "0    -0.157469   -0.254902                     -0.091712\n",
       "1     1.525529   -0.254902                      0.279606\n",
       "2    -0.157469   -0.254902                     -0.104318\n",
       "3    -1.280981   -0.254902                     -0.977487\n",
       "4    -1.280981   -5.199338                     -3.092927"
      ]
     },
     "execution_count": 89,
     "metadata": {},
     "output_type": "execute_result"
    }
   ],
   "source": [
    "quantile= pd.DataFrame(train_quantile, columns=scale_col)\n",
    "quantile.head()"
   ]
  },
  {
   "cell_type": "code",
   "execution_count": 39,
   "id": "85a92dbf",
   "metadata": {},
   "outputs": [
    {
     "name": "stdout",
     "output_type": "stream",
     "text": [
      "bathroomcnt\n"
     ]
    },
    {
     "data": {
      "image/png": "[encoded data removed]",
      "text/plain": [
       "<Figure size 432x288 with 1 Axes>"
      ]
     },
     "metadata": {
      "needs_background": "light"
     },
     "output_type": "display_data"
    },
    {
     "name": "stdout",
     "output_type": "stream",
     "text": [
      "bedroomcnt\n"
     ]
    },
    {
     "data": {
      "image/png": "[encoded data removed]",
      "text/plain": [
       "<Figure size 432x288 with 1 Axes>"
      ]
     },
     "metadata": {
      "needs_background": "light"
     },
     "output_type": "display_data"
    },
    {
     "name": "stdout",
     "output_type": "stream",
     "text": [
      "calculatedfinishedsquarefeet\n"
     ]
    },
    {
     "data": {
      "image/png": "[encoded data removed]",
      "text/plain": [
       "<Figure size 432x288 with 1 Axes>"
      ]
     },
     "metadata": {
      "needs_background": "light"
     },
     "output_type": "display_data"
    }
   ],
   "source": [
    "for col in quantile:\n",
    "    print(col)\n",
    "    quantile[col].hist(bins=20)\n",
    "    plt.show()\n",
    "    \n"
   ]
  },
  {
   "cell_type": "markdown",
   "id": "25cd2a3a",
   "metadata": {},
   "source": [
    "### 4. Use the QuantileTransformer, but omit the output_distribution argument. Visualize your results. What do you notice?"
   ]
  },
  {
   "cell_type": "code",
   "execution_count": 68,
   "id": "26bcbe49",
   "metadata": {},
   "outputs": [],
   "source": [
    "quantile_transformer = sklearn.preprocessing.QuantileTransformer(random_state=123)\n",
    "train_quantile= quantile_transformer.fit_transform(train[scale_col])"
   ]
  },
  {
   "cell_type": "code",
   "execution_count": 69,
   "id": "8f6e6594",
   "metadata": {},
   "outputs": [
    {
     "data": {
      "text/html": [
       "<div>\n",
       "<style scoped>\n",
       "    .dataframe tbody tr th:only-of-type {\n",
       "        vertical-align: middle;\n",
       "    }\n",
       "\n",
       "    .dataframe tbody tr th {\n",
       "        vertical-align: top;\n",
       "    }\n",
       "\n",
       "    .dataframe thead th {\n",
       "        text-align: right;\n",
       "    }\n",
       "</style>\n",
       "<table border=\"1\" class=\"dataframe\">\n",
       "  <thead>\n",
       "    <tr style=\"text-align: right;\">\n",
       "      <th></th>\n",
       "      <th>bathroomcnt</th>\n",
       "      <th>bedroomcnt</th>\n",
       "      <th>calculatedfinishedsquarefeet</th>\n",
       "    </tr>\n",
       "  </thead>\n",
       "  <tbody>\n",
       "    <tr>\n",
       "      <th>0</th>\n",
       "      <td>0.437437</td>\n",
       "      <td>0.399399</td>\n",
       "      <td>0.463463</td>\n",
       "    </tr>\n",
       "    <tr>\n",
       "      <th>1</th>\n",
       "      <td>0.936436</td>\n",
       "      <td>0.399399</td>\n",
       "      <td>0.610110</td>\n",
       "    </tr>\n",
       "    <tr>\n",
       "      <th>2</th>\n",
       "      <td>0.437437</td>\n",
       "      <td>0.399399</td>\n",
       "      <td>0.458458</td>\n",
       "    </tr>\n",
       "    <tr>\n",
       "      <th>3</th>\n",
       "      <td>0.100100</td>\n",
       "      <td>0.399399</td>\n",
       "      <td>0.164164</td>\n",
       "    </tr>\n",
       "    <tr>\n",
       "      <th>4</th>\n",
       "      <td>0.100100</td>\n",
       "      <td>0.000000</td>\n",
       "      <td>0.000991</td>\n",
       "    </tr>\n",
       "  </tbody>\n",
       "</table>\n",
       "</div>"
      ],
      "text/plain": [
       "   bathroomcnt  bedroomcnt  calculatedfinishedsquarefeet\n",
       "0     0.437437    0.399399                      0.463463\n",
       "1     0.936436    0.399399                      0.610110\n",
       "2     0.437437    0.399399                      0.458458\n",
       "3     0.100100    0.399399                      0.164164\n",
       "4     0.100100    0.000000                      0.000991"
      ]
     },
     "execution_count": 69,
     "metadata": {},
     "output_type": "execute_result"
    }
   ],
   "source": [
    "qt=pd.DataFrame(x_train_quantile, columns= scale_col)\n",
    "qt.head()"
   ]
  },
  {
   "cell_type": "code",
   "execution_count": 47,
   "id": "ad3efee7",
   "metadata": {},
   "outputs": [
    {
     "name": "stdout",
     "output_type": "stream",
     "text": [
      "bathroomcnt\n"
     ]
    },
    {
     "data": {
      "image/png": "[encoded data removed]",
      "text/plain": [
       "<Figure size 432x288 with 1 Axes>"
      ]
     },
     "metadata": {
      "needs_background": "light"
     },
     "output_type": "display_data"
    },
    {
     "name": "stdout",
     "output_type": "stream",
     "text": [
      "bedroomcnt\n"
     ]
    },
    {
     "data": {
      "image/png": "[encoded data removed]",
      "text/plain": [
       "<Figure size 432x288 with 1 Axes>"
      ]
     },
     "metadata": {
      "needs_background": "light"
     },
     "output_type": "display_data"
    },
    {
     "name": "stdout",
     "output_type": "stream",
     "text": [
      "calculatedfinishedsquarefeet\n"
     ]
    },
    {
     "data": {
      "image/png": "[encoded data removed]",
      "text/plain": [
       "<Figure size 432x288 with 1 Axes>"
      ]
     },
     "metadata": {
      "needs_background": "light"
     },
     "output_type": "display_data"
    }
   ],
   "source": [
    "for col in qt:\n",
    "    print(col)\n",
    "    qt[col].plot.hist(bins=20)\n",
    "    plt.show()\n",
    "    \n",
    "    \n",
    "    x_train[col]= scaler.fit_transform(x_train[[col]])"
   ]
  },
  {
   "cell_type": "code",
   "execution_count": 90,
   "id": "563bd54f",
   "metadata": {},
   "outputs": [],
   "source": [
    "def scale_data(train, validate, test, scale_col=['bathroomcnt', 'bedroomcnt','calculatedfinishedsquarefeet'],return_scaler=False):\n",
    "    train_scaled= train.copy()\n",
    "    validate_scaled= validate.copy()\n",
    "    test_scaled= test.copy()\n",
    "    \n",
    "    scaler= sklearn.preprocessing.MinMaxScaler()\n",
    "    scaler.fit(train[scale_col])\n",
    "    \n",
    "    train_scaled[scale_col]= pd.DataFrame(scaler.transform(train[scale_col]),\n",
    "                                                  columns=train[scale_col].columns.values).set_index([train.index.values])\n",
    "    \n",
    "    validate_scaled[scale_col] = pd.DataFrame(scaler.transform(validate[scale_col]),\n",
    "                                                  columns=validate[scale_col].columns.values).set_index([validate.index.values])\n",
    "    \n",
    "    test_scaled[scale_col] = pd.DataFrame(scaler.transform(test[scale_col]),\n",
    "                                                 columns=test[scale_col].columns.values).set_index([test.index.values])\n",
    "    \n",
    "    \n",
    "    if return_scaler:\n",
    "        return scaler, train_scaled, validate_scaled, test_scaled\n",
    "    else:\n",
    "        return train_scaled, validate_scaled, test_scaled\n",
    "    \n"
   ]
  },
  {
   "cell_type": "code",
   "execution_count": 91,
   "id": "7a68826f",
   "metadata": {},
   "outputs": [],
   "source": [
    "scaler, train_scaled, validate_scaled, test_scaled = scale_data(train, validate, test, return_scaler=True)"
   ]
  },
  {
   "cell_type": "code",
   "execution_count": 92,
   "id": "1f37ee1c",
   "metadata": {},
   "outputs": [
    {
     "data": {
      "text/html": [
       "<div>\n",
       "<style scoped>\n",
       "    .dataframe tbody tr th:only-of-type {\n",
       "        vertical-align: middle;\n",
       "    }\n",
       "\n",
       "    .dataframe tbody tr th {\n",
       "        vertical-align: top;\n",
       "    }\n",
       "\n",
       "    .dataframe thead th {\n",
       "        text-align: right;\n",
       "    }\n",
       "</style>\n",
       "<table border=\"1\" class=\"dataframe\">\n",
       "  <thead>\n",
       "    <tr style=\"text-align: right;\">\n",
       "      <th></th>\n",
       "      <th>bedroomcnt</th>\n",
       "      <th>bathroomcnt</th>\n",
       "      <th>calculatedfinishedsquarefeet</th>\n",
       "      <th>taxvaluedollarcnt</th>\n",
       "      <th>yearbuilt</th>\n",
       "      <th>taxamount</th>\n",
       "      <th>fips</th>\n",
       "    </tr>\n",
       "  </thead>\n",
       "  <tbody>\n",
       "    <tr>\n",
       "      <th>410426</th>\n",
       "      <td>0.500000</td>\n",
       "      <td>0.333333</td>\n",
       "      <td>0.002916</td>\n",
       "      <td>357034</td>\n",
       "      <td>1961</td>\n",
       "      <td>4418.72</td>\n",
       "      <td>6037</td>\n",
       "    </tr>\n",
       "    <tr>\n",
       "      <th>533217</th>\n",
       "      <td>0.500000</td>\n",
       "      <td>0.583333</td>\n",
       "      <td>0.003387</td>\n",
       "      <td>287774</td>\n",
       "      <td>1996</td>\n",
       "      <td>2798.18</td>\n",
       "      <td>6059</td>\n",
       "    </tr>\n",
       "    <tr>\n",
       "      <th>695362</th>\n",
       "      <td>0.500000</td>\n",
       "      <td>0.333333</td>\n",
       "      <td>0.002901</td>\n",
       "      <td>588738</td>\n",
       "      <td>1923</td>\n",
       "      <td>7210.51</td>\n",
       "      <td>6037</td>\n",
       "    </tr>\n",
       "    <tr>\n",
       "      <th>729442</th>\n",
       "      <td>0.500000</td>\n",
       "      <td>0.166667</td>\n",
       "      <td>0.002122</td>\n",
       "      <td>290984</td>\n",
       "      <td>1952</td>\n",
       "      <td>3622.02</td>\n",
       "      <td>6037</td>\n",
       "    </tr>\n",
       "    <tr>\n",
       "      <th>524897</th>\n",
       "      <td>0.000000</td>\n",
       "      <td>0.166667</td>\n",
       "      <td>0.000744</td>\n",
       "      <td>34541</td>\n",
       "      <td>1942</td>\n",
       "      <td>579.61</td>\n",
       "      <td>6037</td>\n",
       "    </tr>\n",
       "    <tr>\n",
       "      <th>...</th>\n",
       "      <td>...</td>\n",
       "      <td>...</td>\n",
       "      <td>...</td>\n",
       "      <td>...</td>\n",
       "      <td>...</td>\n",
       "      <td>...</td>\n",
       "      <td>...</td>\n",
       "    </tr>\n",
       "    <tr>\n",
       "      <th>81672</th>\n",
       "      <td>0.500000</td>\n",
       "      <td>0.416667</td>\n",
       "      <td>0.004630</td>\n",
       "      <td>463327</td>\n",
       "      <td>1966</td>\n",
       "      <td>5183.18</td>\n",
       "      <td>6059</td>\n",
       "    </tr>\n",
       "    <tr>\n",
       "      <th>806068</th>\n",
       "      <td>0.333333</td>\n",
       "      <td>0.250000</td>\n",
       "      <td>0.002241</td>\n",
       "      <td>517777</td>\n",
       "      <td>1987</td>\n",
       "      <td>5353.78</td>\n",
       "      <td>6059</td>\n",
       "    </tr>\n",
       "    <tr>\n",
       "      <th>703366</th>\n",
       "      <td>0.500000</td>\n",
       "      <td>0.333333</td>\n",
       "      <td>0.003302</td>\n",
       "      <td>478054</td>\n",
       "      <td>1944</td>\n",
       "      <td>5785.01</td>\n",
       "      <td>6037</td>\n",
       "    </tr>\n",
       "    <tr>\n",
       "      <th>798811</th>\n",
       "      <td>0.500000</td>\n",
       "      <td>0.166667</td>\n",
       "      <td>0.002235</td>\n",
       "      <td>72975</td>\n",
       "      <td>1947</td>\n",
       "      <td>482.63</td>\n",
       "      <td>6037</td>\n",
       "    </tr>\n",
       "    <tr>\n",
       "      <th>1350688</th>\n",
       "      <td>0.666667</td>\n",
       "      <td>0.416667</td>\n",
       "      <td>0.003848</td>\n",
       "      <td>224263</td>\n",
       "      <td>1989</td>\n",
       "      <td>2218.78</td>\n",
       "      <td>6059</td>\n",
       "    </tr>\n",
       "  </tbody>\n",
       "</table>\n",
       "<p>1172966 rows × 7 columns</p>\n",
       "</div>"
      ],
      "text/plain": [
       "         bedroomcnt  bathroomcnt  calculatedfinishedsquarefeet  \\\n",
       "410426     0.500000     0.333333                      0.002916   \n",
       "533217     0.500000     0.583333                      0.003387   \n",
       "695362     0.500000     0.333333                      0.002901   \n",
       "729442     0.500000     0.166667                      0.002122   \n",
       "524897     0.000000     0.166667                      0.000744   \n",
       "...             ...          ...                           ...   \n",
       "81672      0.500000     0.416667                      0.004630   \n",
       "806068     0.333333     0.250000                      0.002241   \n",
       "703366     0.500000     0.333333                      0.003302   \n",
       "798811     0.500000     0.166667                      0.002235   \n",
       "1350688    0.666667     0.416667                      0.003848   \n",
       "\n",
       "         taxvaluedollarcnt  yearbuilt  taxamount  fips  \n",
       "410426              357034       1961    4418.72  6037  \n",
       "533217              287774       1996    2798.18  6059  \n",
       "695362              588738       1923    7210.51  6037  \n",
       "729442              290984       1952    3622.02  6037  \n",
       "524897               34541       1942     579.61  6037  \n",
       "...                    ...        ...        ...   ...  \n",
       "81672               463327       1966    5183.18  6059  \n",
       "806068              517777       1987    5353.78  6059  \n",
       "703366              478054       1944    5785.01  6037  \n",
       "798811               72975       1947     482.63  6037  \n",
       "1350688             224263       1989    2218.78  6059  \n",
       "\n",
       "[1172966 rows x 7 columns]"
      ]
     },
     "execution_count": 92,
     "metadata": {},
     "output_type": "execute_result"
    }
   ],
   "source": [
    "train_scaled\n"
   ]
  },
  {
   "cell_type": "code",
   "execution_count": null,
   "id": "bbc7cdf5",
   "metadata": {},
   "outputs": [],
   "source": []
  }
 ],
 "metadata": {
  "kernelspec": {
   "display_name": "Python 3 (ipykernel)",
   "language": "python",
   "name": "python3"
  },
  "language_info": {
   "codemirror_mode": {
    "name": "ipython",
    "version": 3
   },
   "file_extension": ".py",
   "mimetype": "text/x-python",
   "name": "python",
   "nbconvert_exporter": "python",
   "pygments_lexer": "ipython3",
   "version": "3.9.12"
  }
 },
 "nbformat": 4,
 "nbformat_minor": 5
}
