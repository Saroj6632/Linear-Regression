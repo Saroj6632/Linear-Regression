{
 "cells": [
  {
   "cell_type": "code",
   "execution_count": 96,
   "id": "5b83eb24",
   "metadata": {},
   "outputs": [],
   "source": [
    "import pandas as pd\n",
    "import numpy as np\n",
    "import matplotlib.pyplot as plt\n",
    "import seaborn as sns\n",
    "from scipy import stats\n",
    "from sklearn.metrics import mean_squared_error, r2_score\n",
    "\n",
    "from sklearn.linear_model import LinearRegression\n",
    "from sklearn.feature_selection import f_regression \n",
    "from math import sqrt\n",
    "from wrangle import wrangle_zillow\n",
    "from sklearn.model_selection import train_test_split\n",
    "import warnings\n",
    "warnings.filterwarnings('ignore')"
   ]
  },
  {
   "cell_type": "markdown",
   "id": "4e4cf2d5",
   "metadata": {},
   "source": [
    "# 1.Load your zillow dataset."
   ]
  },
  {
   "cell_type": "code",
   "execution_count": 73,
   "id": "d2f047fa",
   "metadata": {},
   "outputs": [
    {
     "data": {
      "text/html": [
       "<div>\n",
       "<style scoped>\n",
       "    .dataframe tbody tr th:only-of-type {\n",
       "        vertical-align: middle;\n",
       "    }\n",
       "\n",
       "    .dataframe tbody tr th {\n",
       "        vertical-align: top;\n",
       "    }\n",
       "\n",
       "    .dataframe thead th {\n",
       "        text-align: right;\n",
       "    }\n",
       "</style>\n",
       "<table border=\"1\" class=\"dataframe\">\n",
       "  <thead>\n",
       "    <tr style=\"text-align: right;\">\n",
       "      <th></th>\n",
       "      <th>bedroomcnt</th>\n",
       "      <th>bathroomcnt</th>\n",
       "      <th>calculatedfinishedsquarefeet</th>\n",
       "      <th>taxvaluedollarcnt</th>\n",
       "      <th>yearbuilt</th>\n",
       "      <th>taxamount</th>\n",
       "      <th>fips</th>\n",
       "    </tr>\n",
       "  </thead>\n",
       "  <tbody>\n",
       "    <tr>\n",
       "      <th>0</th>\n",
       "      <td>4</td>\n",
       "      <td>2.0</td>\n",
       "      <td>3633</td>\n",
       "      <td>296425</td>\n",
       "      <td>2005</td>\n",
       "      <td>6941.39</td>\n",
       "      <td>6037</td>\n",
       "    </tr>\n",
       "    <tr>\n",
       "      <th>1</th>\n",
       "      <td>3</td>\n",
       "      <td>4.0</td>\n",
       "      <td>1620</td>\n",
       "      <td>847770</td>\n",
       "      <td>2011</td>\n",
       "      <td>10244.94</td>\n",
       "      <td>6037</td>\n",
       "    </tr>\n",
       "    <tr>\n",
       "      <th>2</th>\n",
       "      <td>3</td>\n",
       "      <td>2.0</td>\n",
       "      <td>2077</td>\n",
       "      <td>646760</td>\n",
       "      <td>1926</td>\n",
       "      <td>7924.68</td>\n",
       "      <td>6037</td>\n",
       "    </tr>\n",
       "    <tr>\n",
       "      <th>3</th>\n",
       "      <td>0</td>\n",
       "      <td>0.0</td>\n",
       "      <td>1200</td>\n",
       "      <td>5328</td>\n",
       "      <td>1972</td>\n",
       "      <td>91.60</td>\n",
       "      <td>6037</td>\n",
       "    </tr>\n",
       "    <tr>\n",
       "      <th>4</th>\n",
       "      <td>0</td>\n",
       "      <td>0.0</td>\n",
       "      <td>171</td>\n",
       "      <td>6920</td>\n",
       "      <td>1973</td>\n",
       "      <td>255.17</td>\n",
       "      <td>6037</td>\n",
       "    </tr>\n",
       "  </tbody>\n",
       "</table>\n",
       "</div>"
      ],
      "text/plain": [
       "   bedroomcnt  bathroomcnt  calculatedfinishedsquarefeet  taxvaluedollarcnt  \\\n",
       "0           4          2.0                          3633             296425   \n",
       "1           3          4.0                          1620             847770   \n",
       "2           3          2.0                          2077             646760   \n",
       "3           0          0.0                          1200               5328   \n",
       "4           0          0.0                           171               6920   \n",
       "\n",
       "   yearbuilt  taxamount  fips  \n",
       "0       2005    6941.39  6037  \n",
       "1       2011   10244.94  6037  \n",
       "2       1926    7924.68  6037  \n",
       "3       1972      91.60  6037  \n",
       "4       1973     255.17  6037  "
      ]
     },
     "execution_count": 73,
     "metadata": {},
     "output_type": "execute_result"
    }
   ],
   "source": [
    "df=wrangle_zillow()\n",
    "df.head()"
   ]
  },
  {
   "cell_type": "code",
   "execution_count": 74,
   "id": "eb57fd71",
   "metadata": {},
   "outputs": [
    {
     "data": {
      "text/html": [
       "<div>\n",
       "<style scoped>\n",
       "    .dataframe tbody tr th:only-of-type {\n",
       "        vertical-align: middle;\n",
       "    }\n",
       "\n",
       "    .dataframe tbody tr th {\n",
       "        vertical-align: top;\n",
       "    }\n",
       "\n",
       "    .dataframe thead th {\n",
       "        text-align: right;\n",
       "    }\n",
       "</style>\n",
       "<table border=\"1\" class=\"dataframe\">\n",
       "  <thead>\n",
       "    <tr style=\"text-align: right;\">\n",
       "      <th></th>\n",
       "      <th>bed</th>\n",
       "      <th>bath</th>\n",
       "      <th>sq_foot</th>\n",
       "      <th>estimate</th>\n",
       "      <th>yearbuilt</th>\n",
       "      <th>tax</th>\n",
       "      <th>fips</th>\n",
       "    </tr>\n",
       "  </thead>\n",
       "  <tbody>\n",
       "    <tr>\n",
       "      <th>0</th>\n",
       "      <td>4</td>\n",
       "      <td>2.0</td>\n",
       "      <td>3633</td>\n",
       "      <td>296425</td>\n",
       "      <td>2005</td>\n",
       "      <td>6941.39</td>\n",
       "      <td>6037</td>\n",
       "    </tr>\n",
       "  </tbody>\n",
       "</table>\n",
       "</div>"
      ],
      "text/plain": [
       "   bed  bath  sq_foot  estimate  yearbuilt      tax  fips\n",
       "0    4   2.0     3633    296425       2005  6941.39  6037"
      ]
     },
     "execution_count": 74,
     "metadata": {},
     "output_type": "execute_result"
    }
   ],
   "source": [
    "# renaming columns for convienience\n",
    "df=df.rename(columns={'bedroomcnt':'bed','bathroomcnt':'bath','taxvaluedollarcnt':'estimate','calculatedfinishedsquarefeet':'sq_foot','taxamount':'tax'})\n",
    "df.head(1)"
   ]
  },
  {
   "cell_type": "code",
   "execution_count": 75,
   "id": "4f047e54",
   "metadata": {},
   "outputs": [],
   "source": [
    "# splitting the data into train, validate and test sample. All the exploration will be done on  unscaled train data sample only\n",
    "train_and_validate, test = train_test_split(df,test_size=.2 ,random_state=123)\n",
    "train, validate = train_test_split(train_and_validate,test_size=.3,random_state=123)"
   ]
  },
  {
   "cell_type": "code",
   "execution_count": 76,
   "id": "fe1ef6da",
   "metadata": {
    "scrolled": true
   },
   "outputs": [
    {
     "name": "stdout",
     "output_type": "stream",
     "text": [
      "(1172966, 7) (502700, 7) (418917, 7)\n"
     ]
    }
   ],
   "source": [
    "print(train.shape, validate.shape, test.shape)"
   ]
  },
  {
   "cell_type": "code",
   "execution_count": 77,
   "id": "e2123656",
   "metadata": {},
   "outputs": [
    {
     "data": {
      "text/html": [
       "<div>\n",
       "<style scoped>\n",
       "    .dataframe tbody tr th:only-of-type {\n",
       "        vertical-align: middle;\n",
       "    }\n",
       "\n",
       "    .dataframe tbody tr th {\n",
       "        vertical-align: top;\n",
       "    }\n",
       "\n",
       "    .dataframe thead th {\n",
       "        text-align: right;\n",
       "    }\n",
       "</style>\n",
       "<table border=\"1\" class=\"dataframe\">\n",
       "  <thead>\n",
       "    <tr style=\"text-align: right;\">\n",
       "      <th></th>\n",
       "      <th>bed</th>\n",
       "      <th>bath</th>\n",
       "      <th>sq_foot</th>\n",
       "      <th>estimate</th>\n",
       "      <th>yearbuilt</th>\n",
       "      <th>tax</th>\n",
       "      <th>fips</th>\n",
       "    </tr>\n",
       "  </thead>\n",
       "  <tbody>\n",
       "    <tr>\n",
       "      <th>410426</th>\n",
       "      <td>3</td>\n",
       "      <td>2.0</td>\n",
       "      <td>1550</td>\n",
       "      <td>357034</td>\n",
       "      <td>1961</td>\n",
       "      <td>4418.72</td>\n",
       "      <td>6037</td>\n",
       "    </tr>\n",
       "    <tr>\n",
       "      <th>533217</th>\n",
       "      <td>3</td>\n",
       "      <td>3.5</td>\n",
       "      <td>1800</td>\n",
       "      <td>287774</td>\n",
       "      <td>1996</td>\n",
       "      <td>2798.18</td>\n",
       "      <td>6059</td>\n",
       "    </tr>\n",
       "    <tr>\n",
       "      <th>695362</th>\n",
       "      <td>3</td>\n",
       "      <td>2.0</td>\n",
       "      <td>1542</td>\n",
       "      <td>588738</td>\n",
       "      <td>1923</td>\n",
       "      <td>7210.51</td>\n",
       "      <td>6037</td>\n",
       "    </tr>\n",
       "    <tr>\n",
       "      <th>729442</th>\n",
       "      <td>3</td>\n",
       "      <td>1.0</td>\n",
       "      <td>1128</td>\n",
       "      <td>290984</td>\n",
       "      <td>1952</td>\n",
       "      <td>3622.02</td>\n",
       "      <td>6037</td>\n",
       "    </tr>\n",
       "    <tr>\n",
       "      <th>524897</th>\n",
       "      <td>0</td>\n",
       "      <td>1.0</td>\n",
       "      <td>396</td>\n",
       "      <td>34541</td>\n",
       "      <td>1942</td>\n",
       "      <td>579.61</td>\n",
       "      <td>6037</td>\n",
       "    </tr>\n",
       "  </tbody>\n",
       "</table>\n",
       "</div>"
      ],
      "text/plain": [
       "        bed  bath  sq_foot  estimate  yearbuilt      tax  fips\n",
       "410426    3   2.0     1550    357034       1961  4418.72  6037\n",
       "533217    3   3.5     1800    287774       1996  2798.18  6059\n",
       "695362    3   2.0     1542    588738       1923  7210.51  6037\n",
       "729442    3   1.0     1128    290984       1952  3622.02  6037\n",
       "524897    0   1.0      396     34541       1942   579.61  6037"
      ]
     },
     "execution_count": 77,
     "metadata": {},
     "output_type": "execute_result"
    }
   ],
   "source": [
    "train.head()"
   ]
  },
  {
   "cell_type": "markdown",
   "id": "f762c233",
   "metadata": {},
   "source": [
    "# 2.Fit a linear regression model (ordinary least squares) and compute yhat, predictions of taxvaluedollarcnt using only calfulatedfinishedsqft."
   ]
  },
  {
   "cell_type": "code",
   "execution_count": 80,
   "id": "8a0c8b36",
   "metadata": {},
   "outputs": [
    {
     "data": {
      "text/html": [
       "<div>\n",
       "<style scoped>\n",
       "    .dataframe tbody tr th:only-of-type {\n",
       "        vertical-align: middle;\n",
       "    }\n",
       "\n",
       "    .dataframe tbody tr th {\n",
       "        vertical-align: top;\n",
       "    }\n",
       "\n",
       "    .dataframe thead th {\n",
       "        text-align: right;\n",
       "    }\n",
       "</style>\n",
       "<table border=\"1\" class=\"dataframe\">\n",
       "  <thead>\n",
       "    <tr style=\"text-align: right;\">\n",
       "      <th></th>\n",
       "      <th>sq_foot</th>\n",
       "      <th>estimate</th>\n",
       "    </tr>\n",
       "  </thead>\n",
       "  <tbody>\n",
       "    <tr>\n",
       "      <th>410426</th>\n",
       "      <td>1550</td>\n",
       "      <td>357034</td>\n",
       "    </tr>\n",
       "    <tr>\n",
       "      <th>533217</th>\n",
       "      <td>1800</td>\n",
       "      <td>287774</td>\n",
       "    </tr>\n",
       "    <tr>\n",
       "      <th>695362</th>\n",
       "      <td>1542</td>\n",
       "      <td>588738</td>\n",
       "    </tr>\n",
       "    <tr>\n",
       "      <th>729442</th>\n",
       "      <td>1128</td>\n",
       "      <td>290984</td>\n",
       "    </tr>\n",
       "    <tr>\n",
       "      <th>524897</th>\n",
       "      <td>396</td>\n",
       "      <td>34541</td>\n",
       "    </tr>\n",
       "  </tbody>\n",
       "</table>\n",
       "</div>"
      ],
      "text/plain": [
       "        sq_foot  estimate\n",
       "410426     1550    357034\n",
       "533217     1800    287774\n",
       "695362     1542    588738\n",
       "729442     1128    290984\n",
       "524897      396     34541"
      ]
     },
     "execution_count": 80,
     "metadata": {},
     "output_type": "execute_result"
    }
   ],
   "source": [
    "train.drop(columns=['bed','bath','yearbuilt','tax','fips'],inplace=True)\n",
    "train.head()"
   ]
  },
  {
   "cell_type": "code",
   "execution_count": 86,
   "id": "b88a7136",
   "metadata": {},
   "outputs": [],
   "source": [
    "X_train= train[['sq_foot']]\n",
    "y_train= train['estimate']\n",
    "\n",
    "X_validate = validate[['sq_foot']]\n",
    "y_validate = validate['estimate']\n",
    "\n",
    "X_test =test[['sq_foot']]\n",
    "y_test =test['estimate']"
   ]
  },
  {
   "cell_type": "code",
   "execution_count": 87,
   "id": "d22f6605",
   "metadata": {},
   "outputs": [
    {
     "data": {
      "text/html": [
       "<div>\n",
       "<style scoped>\n",
       "    .dataframe tbody tr th:only-of-type {\n",
       "        vertical-align: middle;\n",
       "    }\n",
       "\n",
       "    .dataframe tbody tr th {\n",
       "        vertical-align: top;\n",
       "    }\n",
       "\n",
       "    .dataframe thead th {\n",
       "        text-align: right;\n",
       "    }\n",
       "</style>\n",
       "<table border=\"1\" class=\"dataframe\">\n",
       "  <thead>\n",
       "    <tr style=\"text-align: right;\">\n",
       "      <th></th>\n",
       "      <th>sq_foot</th>\n",
       "      <th>estimate</th>\n",
       "      <th>baseline</th>\n",
       "    </tr>\n",
       "  </thead>\n",
       "  <tbody>\n",
       "    <tr>\n",
       "      <th>410426</th>\n",
       "      <td>1550</td>\n",
       "      <td>357034</td>\n",
       "      <td>398734.95</td>\n",
       "    </tr>\n",
       "    <tr>\n",
       "      <th>533217</th>\n",
       "      <td>1800</td>\n",
       "      <td>287774</td>\n",
       "      <td>398734.95</td>\n",
       "    </tr>\n",
       "    <tr>\n",
       "      <th>695362</th>\n",
       "      <td>1542</td>\n",
       "      <td>588738</td>\n",
       "      <td>398734.95</td>\n",
       "    </tr>\n",
       "    <tr>\n",
       "      <th>729442</th>\n",
       "      <td>1128</td>\n",
       "      <td>290984</td>\n",
       "      <td>398734.95</td>\n",
       "    </tr>\n",
       "    <tr>\n",
       "      <th>524897</th>\n",
       "      <td>396</td>\n",
       "      <td>34541</td>\n",
       "      <td>398734.95</td>\n",
       "    </tr>\n",
       "  </tbody>\n",
       "</table>\n",
       "</div>"
      ],
      "text/plain": [
       "        sq_foot  estimate   baseline\n",
       "410426     1550    357034  398734.95\n",
       "533217     1800    287774  398734.95\n",
       "695362     1542    588738  398734.95\n",
       "729442     1128    290984  398734.95\n",
       "524897      396     34541  398734.95"
      ]
     },
     "execution_count": 87,
     "metadata": {},
     "output_type": "execute_result"
    }
   ],
   "source": [
    "# create a baseline using mean of our target variable\n",
    "baseline = round(train.estimate.mean(),2)\n",
    "baseline\n",
    "\n",
    "train['baseline']= baseline\n",
    "train.head()\n",
    "\n"
   ]
  },
  {
   "cell_type": "code",
   "execution_count": 88,
   "id": "5bbcb03b",
   "metadata": {},
   "outputs": [
    {
     "data": {
      "image/png": "[encoded data removed]",
      "text/plain": [
       "<Figure size 432x288 with 1 Axes>"
      ]
     },
     "metadata": {
      "needs_background": "light"
     },
     "output_type": "display_data"
    }
   ],
   "source": [
    "# scatterplot\n",
    "plt.scatter(train.sq_foot, train.estimate)\n",
    "plt.axhline(train.estimate.mean(), ls = ':')\n",
    "plt.xlabel('x= square foot area')\n",
    "plt.ylabel('y= Home price')\n",
    "plt.title('Baseline model');"
   ]
  },
  {
   "cell_type": "code",
   "execution_count": 89,
   "id": "41f14c04",
   "metadata": {},
   "outputs": [],
   "source": [
    "#create a regression model(ols= ordinary least squares) and fit it into train data sample\n",
    "\n",
    "\n",
    "lr = LinearRegression().fit(X_train,y_train)\n",
    "predictions= lr.predict(X_train)\n"
   ]
  },
  {
   "cell_type": "code",
   "execution_count": 90,
   "id": "4900596f",
   "metadata": {},
   "outputs": [
    {
     "data": {
      "text/html": [
       "<div>\n",
       "<style scoped>\n",
       "    .dataframe tbody tr th:only-of-type {\n",
       "        vertical-align: middle;\n",
       "    }\n",
       "\n",
       "    .dataframe tbody tr th {\n",
       "        vertical-align: top;\n",
       "    }\n",
       "\n",
       "    .dataframe thead th {\n",
       "        text-align: right;\n",
       "    }\n",
       "</style>\n",
       "<table border=\"1\" class=\"dataframe\">\n",
       "  <thead>\n",
       "    <tr style=\"text-align: right;\">\n",
       "      <th></th>\n",
       "      <th>sq_foot</th>\n",
       "      <th>estimate</th>\n",
       "      <th>baseline</th>\n",
       "      <th>yhat</th>\n",
       "    </tr>\n",
       "  </thead>\n",
       "  <tbody>\n",
       "    <tr>\n",
       "      <th>410426</th>\n",
       "      <td>1550</td>\n",
       "      <td>357034</td>\n",
       "      <td>398734.95</td>\n",
       "      <td>357264.612498</td>\n",
       "    </tr>\n",
       "    <tr>\n",
       "      <th>533217</th>\n",
       "      <td>1800</td>\n",
       "      <td>287774</td>\n",
       "      <td>398734.95</td>\n",
       "      <td>399104.649483</td>\n",
       "    </tr>\n",
       "    <tr>\n",
       "      <th>695362</th>\n",
       "      <td>1542</td>\n",
       "      <td>588738</td>\n",
       "      <td>398734.95</td>\n",
       "      <td>355925.731315</td>\n",
       "    </tr>\n",
       "    <tr>\n",
       "      <th>729442</th>\n",
       "      <td>1128</td>\n",
       "      <td>290984</td>\n",
       "      <td>398734.95</td>\n",
       "      <td>286638.630067</td>\n",
       "    </tr>\n",
       "    <tr>\n",
       "      <th>524897</th>\n",
       "      <td>396</td>\n",
       "      <td>34541</td>\n",
       "      <td>398734.95</td>\n",
       "      <td>164131.001774</td>\n",
       "    </tr>\n",
       "  </tbody>\n",
       "</table>\n",
       "</div>"
      ],
      "text/plain": [
       "        sq_foot  estimate   baseline           yhat\n",
       "410426     1550    357034  398734.95  357264.612498\n",
       "533217     1800    287774  398734.95  399104.649483\n",
       "695362     1542    588738  398734.95  355925.731315\n",
       "729442     1128    290984  398734.95  286638.630067\n",
       "524897      396     34541  398734.95  164131.001774"
      ]
     },
     "execution_count": 90,
     "metadata": {},
     "output_type": "execute_result"
    }
   ],
   "source": [
    "# train['yhat'] = predictions\n",
    "\n",
    "\n",
    "# make prediction\n",
    "train['yhat'] = lr.predict(X_train)\n",
    "train.head()"
   ]
  },
  {
   "cell_type": "code",
   "execution_count": 99,
   "id": "7f685da6",
   "metadata": {},
   "outputs": [
    {
     "data": {
      "image/png": "[encoded data removed]",
      "text/plain": [
       "<Figure size 432x288 with 1 Axes>"
      ]
     },
     "metadata": {
      "needs_background": "light"
     },
     "output_type": "display_data"
    }
   ],
   "source": [
    "# visualize the line of best fit from OLS linear model\n",
    "plt.scatter(train['sq_foot'], train['estimate'])\n",
    "plt.plot(train.sq_foot, train.yhat)\n",
    "plt.xlabel('square footage')\n",
    "plt.ylabel('Estimated price')\n",
    "plt.title('OLS linear model');"
   ]
  },
  {
   "cell_type": "markdown",
   "id": "9c4ed6dc",
   "metadata": {},
   "source": [
    "# 3.Plot the residuals for the linear regression model that you made.\n",
    "\n"
   ]
  },
  {
   "cell_type": "code",
   "execution_count": 104,
   "id": "35c08b9f",
   "metadata": {},
   "outputs": [
    {
     "data": {
      "text/html": [
       "<div>\n",
       "<style scoped>\n",
       "    .dataframe tbody tr th:only-of-type {\n",
       "        vertical-align: middle;\n",
       "    }\n",
       "\n",
       "    .dataframe tbody tr th {\n",
       "        vertical-align: top;\n",
       "    }\n",
       "\n",
       "    .dataframe thead th {\n",
       "        text-align: right;\n",
       "    }\n",
       "</style>\n",
       "<table border=\"1\" class=\"dataframe\">\n",
       "  <thead>\n",
       "    <tr style=\"text-align: right;\">\n",
       "      <th></th>\n",
       "      <th>sq_foot</th>\n",
       "      <th>estimate</th>\n",
       "      <th>baseline</th>\n",
       "      <th>yhat</th>\n",
       "      <th>residual</th>\n",
       "      <th>residual_baseline</th>\n",
       "    </tr>\n",
       "  </thead>\n",
       "  <tbody>\n",
       "    <tr>\n",
       "      <th>410426</th>\n",
       "      <td>1550</td>\n",
       "      <td>357034</td>\n",
       "      <td>398734.95</td>\n",
       "      <td>357264.612498</td>\n",
       "      <td>230.612498</td>\n",
       "      <td>41700.95</td>\n",
       "    </tr>\n",
       "    <tr>\n",
       "      <th>533217</th>\n",
       "      <td>1800</td>\n",
       "      <td>287774</td>\n",
       "      <td>398734.95</td>\n",
       "      <td>399104.649483</td>\n",
       "      <td>111330.649483</td>\n",
       "      <td>110960.95</td>\n",
       "    </tr>\n",
       "    <tr>\n",
       "      <th>695362</th>\n",
       "      <td>1542</td>\n",
       "      <td>588738</td>\n",
       "      <td>398734.95</td>\n",
       "      <td>355925.731315</td>\n",
       "      <td>-232812.268685</td>\n",
       "      <td>-190003.05</td>\n",
       "    </tr>\n",
       "    <tr>\n",
       "      <th>729442</th>\n",
       "      <td>1128</td>\n",
       "      <td>290984</td>\n",
       "      <td>398734.95</td>\n",
       "      <td>286638.630067</td>\n",
       "      <td>-4345.369933</td>\n",
       "      <td>107750.95</td>\n",
       "    </tr>\n",
       "    <tr>\n",
       "      <th>524897</th>\n",
       "      <td>396</td>\n",
       "      <td>34541</td>\n",
       "      <td>398734.95</td>\n",
       "      <td>164131.001774</td>\n",
       "      <td>129590.001774</td>\n",
       "      <td>364193.95</td>\n",
       "    </tr>\n",
       "  </tbody>\n",
       "</table>\n",
       "</div>"
      ],
      "text/plain": [
       "        sq_foot  estimate   baseline           yhat       residual  \\\n",
       "410426     1550    357034  398734.95  357264.612498     230.612498   \n",
       "533217     1800    287774  398734.95  399104.649483  111330.649483   \n",
       "695362     1542    588738  398734.95  355925.731315 -232812.268685   \n",
       "729442     1128    290984  398734.95  286638.630067   -4345.369933   \n",
       "524897      396     34541  398734.95  164131.001774  129590.001774   \n",
       "\n",
       "        residual_baseline  \n",
       "410426           41700.95  \n",
       "533217          110960.95  \n",
       "695362         -190003.05  \n",
       "729442          107750.95  \n",
       "524897          364193.95  "
      ]
     },
     "execution_count": 104,
     "metadata": {},
     "output_type": "execute_result"
    }
   ],
   "source": [
    "train['residual'] = train['yhat'] - train['estimate']\n",
    "train['residual_baseline'] = train['baseline'] - df['estimate']\n",
    "train.head()\n",
    "\n"
   ]
  },
  {
   "cell_type": "code",
   "execution_count": 106,
   "id": "ce69d770",
   "metadata": {},
   "outputs": [
    {
     "data": {
      "text/plain": [
       "Text(0.5, 1.0, 'Baseline Residuals Model')"
      ]
     },
     "execution_count": 106,
     "metadata": {},
     "output_type": "execute_result"
    },
    {
     "data": {
      "image/png": "[encoded data removed]",
      "text/plain": [
       "<Figure size 720x432 with 2 Axes>"
      ]
     },
     "metadata": {
      "needs_background": "light"
     },
     "output_type": "display_data"
    }
   ],
   "source": [
    "# residual plots\n",
    "plt.figure(figsize=(10,6))\n",
    "# create subplots\n",
    "plt.subplot(121)\n",
    "plt.scatter(train.sq_foot, train['residual'])\n",
    "plt.axhline(y=0, ls =':', color = 'firebrick')\n",
    "plt.xlabel('Square Foot Area')\n",
    "plt.ylabel('Residual')\n",
    "plt.title('OLS Residual Model')\n",
    "\n",
    "plt.subplot(122)\n",
    "plt.scatter(train.sq_foot, train.residual_baseline)\n",
    "plt.axhline(y = 0, ls = ':', color='red')\n",
    "plt.xlabel('Square Foot Area')\n",
    "plt.ylabel(' Residual')\n",
    "plt.title('Baseline Residuals Model')\n",
    "\n"
   ]
  },
  {
   "cell_type": "markdown",
   "id": "fe01a8a0",
   "metadata": {},
   "source": [
    "## 4. Calculate the sum of squared errors, explained sum of squares, total sum of squares, mean squared error, and root mean squared error for your model.\n",
    "# and\n",
    "## 5. Calculate the sum of squared errors, mean squared error, and root mean squared error for the baseline model (i.e. a model that always predicts the average taxvaluedollarcnt amount).\n",
    "\n"
   ]
  },
  {
   "cell_type": "code",
   "execution_count": 107,
   "id": "03d53d3f",
   "metadata": {},
   "outputs": [
    {
     "data": {
      "text/html": [
       "<div>\n",
       "<style scoped>\n",
       "    .dataframe tbody tr th:only-of-type {\n",
       "        vertical-align: middle;\n",
       "    }\n",
       "\n",
       "    .dataframe tbody tr th {\n",
       "        vertical-align: top;\n",
       "    }\n",
       "\n",
       "    .dataframe thead th {\n",
       "        text-align: right;\n",
       "    }\n",
       "</style>\n",
       "<table border=\"1\" class=\"dataframe\">\n",
       "  <thead>\n",
       "    <tr style=\"text-align: right;\">\n",
       "      <th></th>\n",
       "      <th>sq_foot</th>\n",
       "      <th>estimate</th>\n",
       "      <th>baseline</th>\n",
       "      <th>yhat</th>\n",
       "      <th>residual</th>\n",
       "      <th>residual_baseline</th>\n",
       "      <th>residual^2</th>\n",
       "      <th>baseline_residual ^2</th>\n",
       "    </tr>\n",
       "  </thead>\n",
       "  <tbody>\n",
       "    <tr>\n",
       "      <th>410426</th>\n",
       "      <td>1550</td>\n",
       "      <td>357034</td>\n",
       "      <td>398734.95</td>\n",
       "      <td>357264.612498</td>\n",
       "      <td>230.612498</td>\n",
       "      <td>41700.95</td>\n",
       "      <td>5.318212e+04</td>\n",
       "      <td>1.738969e+09</td>\n",
       "    </tr>\n",
       "    <tr>\n",
       "      <th>533217</th>\n",
       "      <td>1800</td>\n",
       "      <td>287774</td>\n",
       "      <td>398734.95</td>\n",
       "      <td>399104.649483</td>\n",
       "      <td>111330.649483</td>\n",
       "      <td>110960.95</td>\n",
       "      <td>1.239451e+10</td>\n",
       "      <td>1.231233e+10</td>\n",
       "    </tr>\n",
       "    <tr>\n",
       "      <th>695362</th>\n",
       "      <td>1542</td>\n",
       "      <td>588738</td>\n",
       "      <td>398734.95</td>\n",
       "      <td>355925.731315</td>\n",
       "      <td>-232812.268685</td>\n",
       "      <td>-190003.05</td>\n",
       "      <td>5.420155e+10</td>\n",
       "      <td>3.610116e+10</td>\n",
       "    </tr>\n",
       "    <tr>\n",
       "      <th>729442</th>\n",
       "      <td>1128</td>\n",
       "      <td>290984</td>\n",
       "      <td>398734.95</td>\n",
       "      <td>286638.630067</td>\n",
       "      <td>-4345.369933</td>\n",
       "      <td>107750.95</td>\n",
       "      <td>1.888224e+07</td>\n",
       "      <td>1.161027e+10</td>\n",
       "    </tr>\n",
       "    <tr>\n",
       "      <th>524897</th>\n",
       "      <td>396</td>\n",
       "      <td>34541</td>\n",
       "      <td>398734.95</td>\n",
       "      <td>164131.001774</td>\n",
       "      <td>129590.001774</td>\n",
       "      <td>364193.95</td>\n",
       "      <td>1.679357e+10</td>\n",
       "      <td>1.326372e+11</td>\n",
       "    </tr>\n",
       "  </tbody>\n",
       "</table>\n",
       "</div>"
      ],
      "text/plain": [
       "        sq_foot  estimate   baseline           yhat       residual  \\\n",
       "410426     1550    357034  398734.95  357264.612498     230.612498   \n",
       "533217     1800    287774  398734.95  399104.649483  111330.649483   \n",
       "695362     1542    588738  398734.95  355925.731315 -232812.268685   \n",
       "729442     1128    290984  398734.95  286638.630067   -4345.369933   \n",
       "524897      396     34541  398734.95  164131.001774  129590.001774   \n",
       "\n",
       "        residual_baseline    residual^2  baseline_residual ^2  \n",
       "410426           41700.95  5.318212e+04          1.738969e+09  \n",
       "533217          110960.95  1.239451e+10          1.231233e+10  \n",
       "695362         -190003.05  5.420155e+10          3.610116e+10  \n",
       "729442          107750.95  1.888224e+07          1.161027e+10  \n",
       "524897          364193.95  1.679357e+10          1.326372e+11  "
      ]
     },
     "execution_count": 107,
     "metadata": {},
     "output_type": "execute_result"
    }
   ],
   "source": [
    "train['residual^2']= train['residual'] ** 2\n",
    "train['baseline_residual ^2'] = (train['residual_baseline'] ** 2)\n",
    "train.head()"
   ]
  },
  {
   "cell_type": "code",
   "execution_count": 113,
   "id": "8b0e3bbe",
   "metadata": {},
   "outputs": [
    {
     "name": "stdout",
     "output_type": "stream",
     "text": [
      "SSE =8.6976467113804e+16 and SSE_baseline= 1.154642336922085e+17\n"
     ]
    }
   ],
   "source": [
    "# sum of squared error = SSE\n",
    "SSE= train['residual^2'].sum()\n",
    "SSE_baseline= train['baseline_residual ^2'].sum()\n",
    "print(f'SSE ={(SSE)} and SSE_baseline= {(SSE_baseline)}')\n"
   ]
  },
  {
   "cell_type": "code",
   "execution_count": 115,
   "id": "ac7b95ce",
   "metadata": {},
   "outputs": [
    {
     "name": "stdout",
     "output_type": "stream",
     "text": [
      "MSE =74150885118.41264\n",
      "MSE_baseline =98437835105.37262\n"
     ]
    }
   ],
   "source": [
    "#calculating MSE\n",
    "MSE= SSE/len(train)\n",
    "MSE_baseline= SSE_baseline/ len(train)\n",
    "\n",
    "print(f'MSE ={MSE}')\n",
    "print(f'MSE_baseline ={MSE_baseline}')\n"
   ]
  },
  {
   "cell_type": "code",
   "execution_count": 121,
   "id": "237d71f6",
   "metadata": {},
   "outputs": [
    {
     "name": "stdout",
     "output_type": "stream",
     "text": [
      "RMSE=272306.6013125878\n",
      "RMSE_baseline= 313748.0439865285\n"
     ]
    }
   ],
   "source": [
    "# calculate RMSE\n",
    "from math import sqrt\n",
    "RMSE= sqrt(MSE)\n",
    "RMSE_baseline = sqrt(MSE_baseline)\n",
    "\n",
    "print(f'RMSE={RMSE}\\nRMSE_baseline= {RMSE_baseline}')"
   ]
  },
  {
   "cell_type": "code",
   "execution_count": null,
   "id": "43568b7d",
   "metadata": {},
   "outputs": [],
   "source": []
  },
  {
   "cell_type": "markdown",
   "id": "9f3ccf6e",
   "metadata": {},
   "source": [
    "# 6. Write python code that compares the sum of squared errors for your model against the sum of squared errors for the baseline model and outputs whether or not your model performs better than the baseline model."
   ]
  },
  {
   "cell_type": "code",
   "execution_count": 123,
   "id": "4a195845",
   "metadata": {},
   "outputs": [
    {
     "name": "stdout",
     "output_type": "stream",
     "text": [
      "OLS Regression Model Performs Better than Baseline\n"
     ]
    }
   ],
   "source": [
    "if SSE < SSE_baseline:\n",
    "    print('OLS Regression Model Performs Better than Baseline')\n",
    "else:\n",
    "        print('Baseline Model performs better than OLS Regression Model')"
   ]
  },
  {
   "cell_type": "markdown",
   "id": "3cb3fa54",
   "metadata": {},
   "source": [
    "# 7. What is the amount of variance explained in your model?"
   ]
  },
  {
   "cell_type": "code",
   "execution_count": 125,
   "id": "b6d0b44a",
   "metadata": {},
   "outputs": [
    {
     "data": {
      "text/plain": [
       "0.24672373138805914"
      ]
     },
     "execution_count": 125,
     "metadata": {},
     "output_type": "execute_result"
    }
   ],
   "source": [
    "from sklearn.metrics import r2_score\n",
    "r2_score(train.estimate, train.yhat)"
   ]
  },
  {
   "cell_type": "code",
   "execution_count": null,
   "id": "a046786e",
   "metadata": {},
   "outputs": [],
   "source": [
    "\n"
   ]
  },
  {
   "cell_type": "code",
   "execution_count": 126,
   "id": "a675a891",
   "metadata": {},
   "outputs": [
    {
     "name": "stdout",
     "output_type": "stream",
     "text": [
      "MSE 74150885118.41264\n",
      "MSE baseline 98437835105.37262\n"
     ]
    }
   ],
   "source": [
    "#calculate MSE using sklearn\n",
    "from sklearn.metrics import mean_squared_error\n",
    "\n",
    "MSE2 = mean_squared_error(train.estimate, train.yhat)\n",
    "MSE2_baseline = mean_squared_error(train.estimate, train.baseline)\n",
    "\n",
    "print(\"MSE\", MSE2) \n",
    "print(\"MSE baseline\" ,MSE2_baseline) "
   ]
  },
  {
   "cell_type": "code",
   "execution_count": 128,
   "id": "a8faa2b2",
   "metadata": {},
   "outputs": [
    {
     "name": "stdout",
     "output_type": "stream",
     "text": [
      "RMSE 272306.6013125878\n",
      "RMSE baseline 313748.0439865285\n"
     ]
    }
   ],
   "source": [
    "#calculate RMSE: either take square root of MSE or use sklearn (kwarg 'squared = False')\n",
    "\n",
    "\n",
    "RMSE2 = mean_squared_error(train.estimate, train.yhat, squared = False)\n",
    "RMSE2_baseline = mean_squared_error(train.estimate, train.baseline, squared=False)\n",
    "\n",
    "print(\"RMSE\", RMSE2) \n",
    "print(\"RMSE baseline\" ,RMSE2_baseline)  "
   ]
  },
  {
   "cell_type": "markdown",
   "id": "8150e3ea",
   "metadata": {},
   "source": [
    "# 8.Is your model better than the baseline model?\n",
    "\n"
   ]
  },
  {
   "cell_type": "code",
   "execution_count": 130,
   "id": "fde6498b",
   "metadata": {},
   "outputs": [
    {
     "name": "stdout",
     "output_type": "stream",
     "text": [
      "                            OLS Regression Results                            \n",
      "==============================================================================\n",
      "Dep. Variable:               estimate   R-squared:                       0.247\n",
      "Model:                            OLS   Adj. R-squared:                  0.247\n",
      "Method:                 Least Squares   F-statistic:                 3.842e+05\n",
      "Date:                Fri, 22 Jul 2022   Prob (F-statistic):               0.00\n",
      "Time:                        09:10:13   Log-Likelihood:            -1.6344e+07\n",
      "No. Observations:             1172966   AIC:                         3.269e+07\n",
      "Df Residuals:                 1172964   BIC:                         3.269e+07\n",
      "Df Model:                           1                                         \n",
      "Covariance Type:            nonrobust                                         \n",
      "==============================================================================\n",
      "                 coef    std err          t      P>|t|      [0.025      0.975]\n",
      "------------------------------------------------------------------------------\n",
      "const       9.786e+04    546.674    179.003      0.000    9.68e+04    9.89e+04\n",
      "sq_foot      167.3601      0.270    619.827      0.000     166.831     167.889\n",
      "==============================================================================\n",
      "Omnibus:                  3035304.625   Durbin-Watson:                   2.001\n",
      "Prob(Omnibus):                  0.000   Jarque-Bera (JB):    4471011407011.692\n",
      "Skew:                         -28.054   Prob(JB):                         0.00\n",
      "Kurtosis:                    9567.413   Cond. No.                     4.40e+03\n",
      "==============================================================================\n",
      "\n",
      "Notes:\n",
      "[1] Standard Errors assume that the covariance matrix of the errors is correctly specified.\n",
      "[2] The condition number is large, 4.4e+03. This might indicate that there are\n",
      "strong multicollinearity or other numerical problems.\n"
     ]
    }
   ],
   "source": [
    "import statsmodels.api as sm\n",
    "\n",
    "X2 = sm.add_constant(train.sq_foot)\n",
    "est = sm.OLS(train.estimate, X2)\n",
    "est2 = est.fit()\n",
    "print(est2.summary())"
   ]
  },
  {
   "cell_type": "markdown",
   "id": "6f7d2b20",
   "metadata": {},
   "source": [
    "# 9.Create a file named evaluate.py that contains the following functions.\n",
    "- plot_residuals(y, yhat): creates a residual plot\n",
    "- regression_errors(y, yhat): returns the following values:\n",
    "      - sum of squared errors (SSE)\n",
    "      - explained sum of squares (ESS)\n",
    "      - total sum of squares (TSS)\n",
    "      - mean squared error (MSE)\n",
    "      - root mean squared error (RMSE)\n",
    "- baseline_mean_errors(y): computes the SSE, MSE, and RMSE for the baseline model\n",
    "- better_than_baseline(y, yhat): returns true if your model performs better than the baseline, otherwise false\n",
    "\n"
   ]
  },
  {
   "cell_type": "code",
   "execution_count": 133,
   "id": "4ce7ba5a",
   "metadata": {},
   "outputs": [],
   "source": [
    "def plot_residuals(actual, predicted):\n",
    "    residuals = actual - predicted\n",
    "    plt.hlines(0, actual.min(), actual.max(), ls=':')\n",
    "    plt.scatter(actual, residuals)\n",
    "    plt.ylabel('residual ($y - \\hat{y}$)')\n",
    "    plt.xlabel('actual value ($y$)')\n",
    "    plt.title('Actual vs Residual')\n",
    "    plt.show()"
   ]
  },
  {
   "cell_type": "code",
   "execution_count": 132,
   "id": "3359166c",
   "metadata": {},
   "outputs": [],
   "source": [
    "def residuals(actual, predicted):\n",
    "    return actual - predicted\n",
    "\n",
    "def sse(actual, predicted):\n",
    "    return (residuals(actual, predicted) **2).sum()\n",
    "\n",
    "def mse(actual, predicted):\n",
    "    n = actual.shape[0]\n",
    "    return sse(actual, predicted) / n\n",
    "\n",
    "def rmse(actual, predicted):\n",
    "    return math.sqrt(mse(actual, predicted))\n",
    "\n",
    "def ess(actual, predicted):\n",
    "    return ((predicted - actual.mean()) ** 2).sum()\n",
    "\n",
    "def tss(actual):\n",
    "    return ((actual - actual.mean()) ** 2).sum()\n",
    "\n",
    "def r2_score(actual, predicted):\n",
    "    return ess(actual, predicted) / tss(actual)"
   ]
  },
  {
   "cell_type": "code",
   "execution_count": 131,
   "id": "d2742233",
   "metadata": {},
   "outputs": [],
   "source": [
    "def regression_errors(actual, predicted):\n",
    "    return pd.Series({\n",
    "        'sse': sse(actual, predicted),\n",
    "        'ess': ess(actual, predicted),\n",
    "        'tss': tss(actual),\n",
    "        'mse': mse(actual, predicted),\n",
    "        'rmse': rmse(actual, predicted),\n",
    "    })\n",
    "\n",
    "def baseline_mean_errors(actual):\n",
    "    predicted = actual.mean()\n",
    "    return {\n",
    "        'sse': sse(actual, predicted),\n",
    "        'mse': mse(actual, predicted),\n",
    "        'rmse': rmse(actual, predicted),\n",
    "    }\n",
    "\n",
    "def better_than_baseline(actual, predicted):\n",
    "    rmse_baseline = rmse(actual, actual.mean())\n",
    "    rmse_model = rmse(actual, predicted)\n",
    "    return rmse_model < rmse_baseline"
   ]
  },
  {
   "cell_type": "code",
   "execution_count": null,
   "id": "988a8bf4",
   "metadata": {},
   "outputs": [],
   "source": []
  }
 ],
 "metadata": {
  "kernelspec": {
   "display_name": "Python 3 (ipykernel)",
   "language": "python",
   "name": "python3"
  },
  "language_info": {
   "codemirror_mode": {
    "name": "ipython",
    "version": 3
   },
   "file_extension": ".py",
   "mimetype": "text/x-python",
   "name": "python",
   "nbconvert_exporter": "python",
   "pygments_lexer": "ipython3",
   "version": "3.9.12"
  }
 },
 "nbformat": 4,
 "nbformat_minor": 5
}
